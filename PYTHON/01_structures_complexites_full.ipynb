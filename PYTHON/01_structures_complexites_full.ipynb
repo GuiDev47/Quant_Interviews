{
 "cells": [
  {
   "cell_type": "markdown",
   "id": "10e74ad1",
   "metadata": {},
   "source": [
    "\n",
    "# 01 — Structures de données & Complexités (version **complète**)\n",
    "\n",
    "**Objectifs du cours**\n",
    "- Comprendre **en profondeur** les structures Python (`list`, `tuple`, `dict`, `set`, `deque`, `heapq`, etc.)  \n",
    "- Maîtriser les **complexités** (temps & mémoire) et **cas limites** fréquents en entretien  \n",
    "- Savoir **choisir la bonne structure** selon le **cas d'usage** (+ pièges à éviter)  \n",
    "- Disposer d'**exemples concrets**, d'**exercices** et d'une **fiche mémo**\n",
    "\n",
    "**Notation** : toutes les équations sont en bloc `$$ ... $$` pour un rendu parfait.\n"
   ]
  },
  {
   "cell_type": "markdown",
   "id": "f85ad9c5",
   "metadata": {},
   "source": [
    "\n",
    "## 1) Modèle interne (mentale) à avoir\n",
    "\n",
    "- `list` : **tableau dynamique contigu** en mémoire → accès index **O(1)**, mais insertion/suppression **au milieu** = **O(n)** (décalage des éléments).\n",
    "- `tuple` : comme `list` mais **immutable** → hashable si éléments hashables (peut servir de clé de dict).\n",
    "- `dict` / `set` : **table de hachage** → opérations moyennes **O(1)**, **pas d'ordre logique** (mais ordre d'insertion préservé depuis Py ≥ 3.7 pour `dict`).  \n",
    "- `deque` : **double-ended queue** basée sur des **blocs** (linked) → **O(1)** append/pop aux **deux extrémités** ; accès index **O(n)**.\n",
    "- `heapq` : **min-heap** (tas binaire) → `heappush`/`heappop` **O(log n)**, le plus petit élément en tête.\n",
    "\n",
    "**Rappel complexités asymptotiques**  \n",
    "$$ \\text{O(1)} < \\text{O}(\\log n) < \\text{O}(n) < \\text{O}(n \\log n) < \\text{O}(n^2) $$\n"
   ]
  },
  {
   "cell_type": "markdown",
   "id": "58b8bbb5",
   "metadata": {},
   "source": [
    "\n",
    "## 2) Tableau de complexités (détaillé)\n",
    "\n",
    "| Structure | Accès | Recherche | Insertion | Suppression | Itération | Remarques |\n",
    "|---|---:|---:|---:|---:|---:|---|\n",
    "| `list` | O(1) | O(n) | O(n) milieu / O(1) fin | O(n) milieu / O(1) fin | O(n) | Tableau contigu + over-allocation |\n",
    "| `tuple` | O(1) | O(n) | — | — | O(n) | Immutable, hashable |\n",
    "| `dict` | O(1)* | O(1)* | O(1)* | O(1)* | O(n) | *Amorti, dépend du hash/colisions |\n",
    "| `set` | — | O(1)* | O(1)* | O(1)* | O(n) | Ensemble (éléments uniques) |\n",
    "| `deque` | O(n) | O(n) | O(1) extrémités | O(1) extrémités | O(n) | Idéal files/rolling windows |\n",
    "| `heapq` | — | — | O(log n) | O(log n) | O(n) | Min-heap, accès direct non supporté |\n",
    "\n",
    "**Pourquoi `list.insert(i, x)` est O(n) ?**  \n",
    "Parce qu'il faut **décaler** en mémoire **tous les éléments à droite** de `i`.  \n"
   ]
  },
  {
   "cell_type": "markdown",
   "id": "3c9404b7",
   "metadata": {},
   "source": [
    "\n",
    "## 3) Démonstrations de coûts : insert/pop au milieu vs en fin\n",
    "\n",
    "On mesure l'impact **amorti** : en fin `append/pop` ~O(1), **au milieu** ~O(n).\n"
   ]
  },
  {
   "cell_type": "code",
   "execution_count": 1,
   "id": "ad1023d3",
   "metadata": {},
   "outputs": [
    {
     "name": "stdout",
     "output_type": "stream",
     "text": [
      "insert(milieu) temps moyen: 117.13 µs\n",
      "append(fin)     temps moyen: 0.1648 µs  (~O(1))\n"
     ]
    }
   ],
   "source": [
    "\n",
    "import time, random\n",
    "\n",
    "def bench_insert_middle(n=20000, reps=3):\n",
    "    ts=[]\n",
    "    for _ in range(reps):\n",
    "        lst=list(range(n))\n",
    "        t0=time.perf_counter()\n",
    "        lst.insert(n//2, -1)\n",
    "        ts.append(time.perf_counter()-t0)\n",
    "    return sum(ts)/len(ts)\n",
    "\n",
    "def bench_append(n=20000, reps=500):\n",
    "    ts=[]\n",
    "    for _ in range(reps):\n",
    "        lst=[]\n",
    "        t0=time.perf_counter()\n",
    "        lst.append(1)\n",
    "        ts.append(time.perf_counter()-t0)\n",
    "    return sum(ts)/len(ts)\n",
    "\n",
    "mid = bench_insert_middle()\n",
    "end = bench_append()\n",
    "print(f\"insert(milieu) temps moyen: {mid*1e6:.2f} µs\")\n",
    "print(f\"append(fin)     temps moyen: {end*1e6:.4f} µs  (~O(1))\")\n"
   ]
  },
  {
   "cell_type": "markdown",
   "id": "e60f13da",
   "metadata": {},
   "source": [
    "\n",
    "## 4) Dictionnaires & Ensembles : hashing, collisions, pièges\n",
    "\n",
    "- **Hashing** : `dict` et `set` s'appuient sur `__hash__` et `__eq__` pour les clés.  \n",
    "- **Clés valides** : **immutables** et **hashables** (ex : `str`, `int`, `tuple` d'objets hashables).  \n",
    "- **Collisions** : gérées par **open addressing** (détails CPython) ; la complexité reste **O(1) amorti**.\n",
    "\n",
    "**Pièges classiques**\n",
    "- Utiliser une **liste** en clé → ❌ (non hashable) ; utiliser un **tuple** → ✅\n",
    "- Clés mutables (ex : `list`), ou objets dont `__hash__` dépend d'attributs qui changent → **comportements bizarres**.\n"
   ]
  },
  {
   "cell_type": "code",
   "execution_count": 2,
   "id": "ba93cbb3",
   "metadata": {},
   "outputs": [
    {
     "name": "stdout",
     "output_type": "stream",
     "text": [
      "clé tuple OK: 1.09\n",
      "Erreur attendue: unhashable type: 'list'\n"
     ]
    }
   ],
   "source": [
    "\n",
    "# Clé tuple correcte\n",
    "prices = {(\"EURUSD\", \"2024-01-01\"): 1.09}\n",
    "print(\"clé tuple OK:\", prices[(\"EURUSD\",\"2024-01-01\")])\n",
    "\n",
    "# Clé liste -> TypeError\n",
    "try:\n",
    "    bad = {[\"EURUSD\",\"2024-01-01\"]: 1.09}  # noqa\n",
    "except TypeError as e:\n",
    "    print(\"Erreur attendue:\", e)\n"
   ]
  },
  {
   "cell_type": "markdown",
   "id": "90acb082",
   "metadata": {},
   "source": [
    "\n",
    "## 5) `deque` pour fenêtres glissantes (rolling) en **O(1) amorti**\n",
    "\n",
    "Exemple : moyenne mobile sur un flux (évite `sum` à chaque pas).\n"
   ]
  },
  {
   "cell_type": "code",
   "execution_count": 3,
   "id": "99046361",
   "metadata": {},
   "outputs": [
    {
     "name": "stdout",
     "output_type": "stream",
     "text": [
      "[1.0, 1.5, 2.0, 3.0, 4.0, 5.0]\n"
     ]
    }
   ],
   "source": [
    "\n",
    "from collections import deque\n",
    "def rolling_mean(iterable, n):\n",
    "    d=deque(maxlen=n); s=0.0\n",
    "    for x in iterable:\n",
    "        if len(d)==n:\n",
    "            s -= d[0]\n",
    "        d.append(x); s += x\n",
    "        yield s/len(d)\n",
    "\n",
    "print(list(rolling_mean([1,2,3,4,5,6], 3)))\n"
   ]
  },
  {
   "cell_type": "markdown",
   "id": "c8ec2839",
   "metadata": {},
   "source": [
    "\n",
    "## 6) `heapq` (min-heap) : file de priorité, top‑k, fusion de flux ordonnés\n",
    "\n",
    "- `heappush(h, x)`, `heappop(h)` → **O(log n)**\n",
    "- Obtenir le **top‑k** efficacement (au lieu de trier tout)  \n",
    "- Fusionner **k listes triées** (`heapq.merge`) → utile pour consolider des flux triés par timestamp.\n"
   ]
  },
  {
   "cell_type": "code",
   "execution_count": 4,
   "id": "29cfc4ac",
   "metadata": {},
   "outputs": [
    {
     "name": "stdout",
     "output_type": "stream",
     "text": [
      "Top 5: [999, 998, 997, 997, 995]\n"
     ]
    }
   ],
   "source": [
    "\n",
    "import heapq, random\n",
    "\n",
    "# Top-k (k plus grands) avec min-heap de taille k\n",
    "def topk(iterable, k=5):\n",
    "    h=[]\n",
    "    for x in iterable:\n",
    "        if len(h)<k:\n",
    "            heapq.heappush(h, x)\n",
    "        else:\n",
    "            if x>h[0]:\n",
    "                heapq.heapreplace(h, x)  # pop+push O(log k)\n",
    "    return sorted(h, reverse=True)\n",
    "\n",
    "data=[random.randint(0,1000) for _ in range(1000)]\n",
    "print(\"Top 5:\", topk(data, 5))\n"
   ]
  },
  {
   "cell_type": "code",
   "execution_count": 5,
   "id": "51b5a0c6",
   "metadata": {},
   "outputs": [
    {
     "name": "stdout",
     "output_type": "stream",
     "text": [
      "merge: [1, 2, 3, 4, 5, 6, 7, 8, 9, 10]\n"
     ]
    }
   ],
   "source": [
    "\n",
    "# Fusion de flux triés (tapez 'help(heapq.merge)')\n",
    "import heapq\n",
    "a=[1,4,9]; b=[2,3,10]; c=[5,6,7,8]\n",
    "print(\"merge:\", list(heapq.merge(a,b,c)))\n"
   ]
  },
  {
   "cell_type": "markdown",
   "id": "ec147d09",
   "metadata": {},
   "source": [
    "\n",
    "## 7) `list` vs `deque` : quand choisir quoi ?\n",
    "\n",
    "- **`list`** : accès aléatoire rapide, **parcours** et **manipulations en fin**.\n",
    "- **`deque`** : **file** FIFO/LIFO, besoins d'**append/pop aux deux extrémités**, **sliding window**.\n",
    "- Accès `deque[i]` → **O(n)** ; `list[i]` → **O(1)**.  \n",
    "**Règle** : si tu fais souvent `pop(0)`/`insert(0, x)` → prends une **`deque`**.\n"
   ]
  },
  {
   "cell_type": "markdown",
   "id": "bf3d82e1",
   "metadata": {},
   "source": [
    "\n",
    "## 8) Exercices (avec corrections)\n",
    "\n",
    "### Exo 1 — Choix de structure\n",
    "> Tu reçois un flux de 10 millions d'IDs (peut contenir des doublons). Tu dois renvoyer la **liste des IDs uniques** et pouvoir tester `id in ...` rapidement. **Que choisis-tu ? Pourquoi ?**\n",
    "\n",
    "**Attendu** : `set` pour unicité + membership O(1). Si ordre d'arrivée requis → `dict` (clé=id) pour préserver l'ordre (Py ≥3.7) ou `OrderedDict`.\n",
    "\n",
    "---\n",
    "\n",
    "### Exo 2 — Rolling maximum en O(1) amorti\n",
    "> Implémente `rolling_max(arr, k)` qui renvoie le maximum de chaque fenêtre de taille `k` **en O(1) amorti**.\n",
    "\n",
    "**Indication** : Utilise une `deque` qui garde des indices et des valeurs **monotoniquement décroissantes**.\n"
   ]
  },
  {
   "cell_type": "code",
   "execution_count": 6,
   "id": "5ad7c42c",
   "metadata": {},
   "outputs": [
    {
     "name": "stdout",
     "output_type": "stream",
     "text": [
      "[3, 3, 5, 5, 6, 7]\n"
     ]
    }
   ],
   "source": [
    "\n",
    "from collections import deque\n",
    "\n",
    "def rolling_max(arr, k):\n",
    "    q = deque()\n",
    "    res = []\n",
    "    for i, x in enumerate(arr):\n",
    "        # Retire les indices qui sortent de la fenêtre\n",
    "        if q and q[0] <= i-k:\n",
    "            q.popleft()\n",
    "        # Maintient la deque décroissante (valeurs)\n",
    "        while q and arr[q[-1]] <= x:\n",
    "            q.pop()\n",
    "        q.append(i)\n",
    "        if i >= k-1:\n",
    "            res.append(arr[q[0]])\n",
    "    return res\n",
    "\n",
    "print(rolling_max([1,3,-1,-3,5,3,6,7], 3))  # [3,3,5,5,6,7]\n"
   ]
  },
  {
   "cell_type": "markdown",
   "id": "cfabd0bd",
   "metadata": {},
   "source": [
    "\n",
    "## 9) Pièges d'entretien & points à **recaser**\n",
    "\n",
    "- **Pourquoi `insert/pop` milieu list = O(n)` ?** → déplacement des éléments contigus.\n",
    "- **Pourquoi `dict`/`set` = O(1) amorti ?** → table de hachage, dépend des collisions.\n",
    "- **Quand `deque` > `list` ?** → opérations extrémités fréquentes (FIFO, rolling).\n",
    "- **Pourquoi `heapq` ?** → priorité, top‑k, fusion k flux triés **sans trier tout**.\n",
    "- **Clé hashable** → utiliser **tuple**, éviter **list** mutable.\n"
   ]
  },
  {
   "cell_type": "markdown",
   "id": "0a8cd403",
   "metadata": {},
   "source": [
    "\n",
    "---\n",
    "## 📌 Fiche mémo (révision express)\n",
    "\n",
    "- `list`: accès O(1), `append/pop` fin O(1), **milieu O(n)**  \n",
    "- `tuple`: immutable, hashable si contenu hashable  \n",
    "- `dict`/`set`: **O(1) amorti**, clés hashables, attention aux collisions  \n",
    "- `deque`: **O(1)** aux deux extrémités, **O(n)** accès index  \n",
    "- `heapq`: `heappush`/`heappop` **O(log n)**, top‑k, merges triés  \n",
    "- Choix structure = **pattern d'accès** + **contraintes perf/mémoire**\n"
   ]
  }
 ],
 "metadata": {
  "kernelspec": {
   "display_name": "venv",
   "language": "python",
   "name": "python3"
  },
  "language_info": {
   "codemirror_mode": {
    "name": "ipython",
    "version": 3
   },
   "file_extension": ".py",
   "mimetype": "text/x-python",
   "name": "python",
   "nbconvert_exporter": "python",
   "pygments_lexer": "ipython3",
   "version": "3.10.11"
  }
 },
 "nbformat": 4,
 "nbformat_minor": 5
}
