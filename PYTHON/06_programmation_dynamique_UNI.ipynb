{
 "cells": [
  {
   "cell_type": "markdown",
   "id": "09be0b35",
   "metadata": {},
   "source": [
    "\n",
    "# 06 — Programmation Dynamique (DP) — Version **Université**\n",
    "\n",
    "> **Objectif pédagogique** : savoir **reconnaître** un problème de Programmation Dynamique, **construire** la bonne formulation (`dp[...]`), **choisir** entre mémoïsation (top‑down) et tabulation (bottom‑up), **reconstruire** une solution optimale, et **expliquer** les complexités en entretien.\n",
    ">\n",
    "> **Applications trading/data** : allocation sous contrainte (risk budget), rebalancing discret, édition de flux (distance d’édition), filtrage de séquences, matching d’événements.\n",
    "\n",
    "## Plan du cours\n",
    "1. Motivation & intuition de la DP  \n",
    "2. Les deux questions pour **détecter** la DP  \n",
    "3. Mémoïsation (top‑down) vs Tabulation (bottom‑up)  \n",
    "4. Méthode systématique pour modéliser un `dp`  \n",
    "5. Classiques : **Knapsack 0/1**, **Coin Change**, **Edit Distance**, **LIS** (longest increasing subsequence)  \n",
    "6. Reconstruction des solutions  \n",
    "7. Pièges, bonnes pratiques, checklist d’entretien  \n",
    "8. Exercices guidés + corrigés\n"
   ]
  },
  {
   "cell_type": "markdown",
   "id": "20d1d680",
   "metadata": {},
   "source": [
    "\n",
    "## 1) Motivation & intuition\n",
    "\n",
    "La **DP** sert quand :\n",
    "- on peut **décomposer** un problème en **sous‑problèmes qui se répètent**,\n",
    "- l’**optimal global** se construit à partir d’**optimaux locaux** (structure optimale).\n",
    "\n",
    "Exemples concrets :\n",
    "- **Knapsack** : sélectionner des positions sous une contrainte de **budget/risque** pour maximiser un score.\n",
    "- **Coin Change** : effectuer un **arrondi discret** au plus juste (ticks, tailles de lots).\n",
    "- **Edit Distance** : mesurer la **différence** entre deux séquences (flux d’ordres vs exécutions).\n",
    "- **LIS** : extraire une **tendance croissante** la plus longue (filtrage de bruit sur séries discrètes).\n"
   ]
  },
  {
   "cell_type": "markdown",
   "id": "44c615a9",
   "metadata": {},
   "source": [
    "\n",
    "## 2) Détecter la DP : 2 questions simples\n",
    "\n",
    "1. **Sous‑problèmes qui se recoupent ?**  \n",
    "   Les mêmes calculs reviennent à différents endroits (ex. même suffixe/préfixe).\n",
    "\n",
    "2. **Structure optimale ?**  \n",
    "   L’optimal global peut‑il être construit en combinant des **choix optimaux** sur des sous‑espaces ?\n",
    "\n",
    "Si **oui** → grande chance que la DP soit la bonne approche.\n"
   ]
  },
  {
   "cell_type": "markdown",
   "id": "96714fd7",
   "metadata": {},
   "source": [
    "\n",
    "## 3) Mémoïsation vs Tabulation\n",
    "\n",
    "- **Mémoïsation (top‑down)** : on écrit une **récursion** naïve puis on **mémorise** les résultats. Très rapide à prototyper avec `@lru_cache`.\n",
    "- **Tabulation (bottom‑up)** : on **remplit** une table selon un **ordre de calcul**. Plus contrôlable, souvent plus **mémoire‑économe** et **prévisible**.\n"
   ]
  },
  {
   "cell_type": "code",
   "execution_count": 1,
   "id": "05cb4d95",
   "metadata": {},
   "outputs": [
    {
     "data": {
      "text/plain": [
       "([0, 1, 1, 2, 3, 5, 8, 13, 21, 34], [0, 1, 1, 2, 3, 5, 8, 13, 21, 34])"
      ]
     },
     "execution_count": 1,
     "metadata": {},
     "output_type": "execute_result"
    }
   ],
   "source": [
    "\n",
    "from functools import lru_cache\n",
    "\n",
    "@lru_cache(maxsize=None)\n",
    "def fib_memo(n: int) -> int:\n",
    "    if n < 2: return n\n",
    "    return fib_memo(n-1) + fib_memo(n-2)\n",
    "\n",
    "def fib_tabu(n: int) -> int:\n",
    "    if n < 2: return n\n",
    "    a, b = 0, 1\n",
    "    for _ in range(2, n+1):\n",
    "        a, b = b, a + b\n",
    "    return b\n",
    "\n",
    "[fib_memo(i) for i in range(10)], [fib_tabu(i) for i in range(10)]\n"
   ]
  },
  {
   "cell_type": "markdown",
   "id": "07d9f429",
   "metadata": {},
   "source": [
    "\n",
    "## 4) Méthode systématique pour modéliser un `dp`\n",
    "\n",
    "1. **État** : que représente `dp[i][...]` ? (ex. meilleure valeur en considérant les `i` premiers éléments)  \n",
    "2. **Transition** : comment calculer `dp[...]` depuis des états plus simples ? (formule de récurrence)  \n",
    "3. **Bords** : quelles sont les conditions initiales ?  \n",
    "4. **Ordre de calcul** : dans quel ordre remplir la table ?  \n",
    "5. **Réponse** : où se trouve la solution dans la table ?  \n",
    "6. **Reconstruction** (souvent oublié) : comment retrouver **les choix** menant à l’optimal ?\n"
   ]
  },
  {
   "cell_type": "markdown",
   "id": "dfeb428f",
   "metadata": {},
   "source": [
    "\n",
    "## 5) Knapsack 0/1 — valeur **et reconstruction** (indispensable en entretien)\n",
    "\n",
    "**Énoncé** : on a des poids `w[i]`, valeurs `v[i]`, capacité `W`. On veut **maximiser** la valeur sans **dépasser** `W`.\n",
    "\n",
    "**Modélisation**\n",
    "- **État** : `dp[i][w]` = meilleure valeur en utilisant les `i` premiers objets avec capacité `w`.\n",
    "- **Transition** :\n",
    "\\-\\- si on **ne prend pas** l’objet `i` : `dp[i-1][w]`  \n",
    "\\-\\- si on **prend** l’objet `i` (si `w_i ≤ w`) : `dp[i-1][w - w_i] + v_i`  \n",
    "⇒ `dp[i][w] = max(dp[i-1][w], dp[i-1][w-w_i] + v_i)`\n",
    "\n",
    "- **Bords** : `dp[0][w] = 0` pour tout `w`.\n",
    "- **Réponse** : `dp[n][W]`.\n",
    "- **Reconstruction** : on remonte la table pour lister les objets choisis.\n"
   ]
  },
  {
   "cell_type": "code",
   "execution_count": 2,
   "id": "3870fc9f",
   "metadata": {},
   "outputs": [
    {
     "data": {
      "text/plain": [
       "(12, [1, 3])"
      ]
     },
     "execution_count": 2,
     "metadata": {},
     "output_type": "execute_result"
    }
   ],
   "source": [
    "\n",
    "def knapsack_reconstruct(weights, values, W):\n",
    "    n = len(weights)\n",
    "    dp = [[0]*(W+1) for _ in range(n+1)]\n",
    "    for i in range(1, n+1):\n",
    "        wi, vi = weights[i-1], values[i-1]\n",
    "        for w in range(W+1):\n",
    "            dp[i][w] = dp[i-1][w]\n",
    "            if wi <= w:\n",
    "                cand = dp[i-1][w-wi] + vi\n",
    "                if cand > dp[i][w]:\n",
    "                    dp[i][w] = cand\n",
    "    # Reconstruction des choix\n",
    "    w = W; take = []\n",
    "    for i in range(n, 0, -1):\n",
    "        if dp[i][w] != dp[i-1][w]:\n",
    "            take.append(i-1)\n",
    "            w -= weights[i-1]\n",
    "    take.reverse()\n",
    "    return dp[n][W], take\n",
    "\n",
    "val, items = knapsack_reconstruct([2,3,4,5], [3,4,5,8], W=8)\n",
    "val, items  # valeur optimale et indices pris\n"
   ]
  },
  {
   "cell_type": "markdown",
   "id": "6a4228a4",
   "metadata": {},
   "source": [
    "\n",
    "## 6) Coin Change — **minimum** de pièces\n",
    "\n",
    "**Énoncé** : rendre un montant `amount` avec un set de pièces `coins`; minimiser le **nombre de pièces**.\n",
    "\n",
    "**Modélisation**\n",
    "- **État** : `dp[a]` = nombre minimal de pièces pour atteindre `a`.\n",
    "- **Transition** : `dp[a] = min_{c∈coins}( dp[a-c] + 1 )` si `c ≤ a`.\n",
    "- **Bords** : `dp[0]=0`, et infini pour le reste avant calcul.\n",
    "- **Réponse** : `dp[amount]` (ou `-1` si impossible).\n"
   ]
  },
  {
   "cell_type": "code",
   "execution_count": 3,
   "id": "639b5f4d",
   "metadata": {},
   "outputs": [
    {
     "data": {
      "text/plain": [
       "3"
      ]
     },
     "execution_count": 3,
     "metadata": {},
     "output_type": "execute_result"
    }
   ],
   "source": [
    "\n",
    "def coin_change_min(coins, amount):\n",
    "    INF = 10**9\n",
    "    dp = [0] + [INF]*amount\n",
    "    for a in range(1, amount+1):\n",
    "        for c in coins:\n",
    "            if c <= a:\n",
    "                dp[a] = min(dp[a], dp[a-c] + 1)\n",
    "    return dp[amount] if dp[amount] < INF else -1\n",
    "\n",
    "coin_change_min([1,2,5], 11)  # 3 (5+5+1)\n"
   ]
  },
  {
   "cell_type": "markdown",
   "id": "d87d39d7",
   "metadata": {},
   "source": [
    "\n",
    "## 7) Edit Distance (Levenshtein) — tabulation complète\n",
    "\n",
    "**Énoncé** : transformer `a` en `b` via insertions/suppressions/substitutions (coût 1).  \n",
    "**Modélisation**\n",
    "- **État** : `dp[i][j]` = coût minimal pour `a[:i]` → `b[:j]`.\n",
    "- **Transitions** :\n",
    "  - Suppression : `dp[i-1][j] + 1`\n",
    "  - Insertion  : `dp[i][j-1] + 1`\n",
    "  - Substitution (ou égalité) : `dp[i-1][j-1] + cost` (`0` si `a[i-1]==b[j-1]`, sinon `1`)\n",
    "- **Bords** : `dp[i][0]=i`, `dp[0][j]=j`.\n",
    "- **Complexité** : \\(O(nm)\\).\n"
   ]
  },
  {
   "cell_type": "code",
   "execution_count": 4,
   "id": "70420bbf",
   "metadata": {},
   "outputs": [
    {
     "data": {
      "text/plain": [
       "3"
      ]
     },
     "execution_count": 4,
     "metadata": {},
     "output_type": "execute_result"
    }
   ],
   "source": [
    "\n",
    "def edit_distance(a: str, b: str) -> int:\n",
    "    n, m = len(a), len(b)\n",
    "    dp = [[0]*(m+1) for _ in range(n+1)]\n",
    "    for i in range(n+1): dp[i][0] = i\n",
    "    for j in range(m+1): dp[0][j] = j\n",
    "    for i in range(1, n+1):\n",
    "        for j in range(1, m+1):\n",
    "            cost = 0 if a[i-1] == b[j-1] else 1\n",
    "            dp[i][j] = min(\n",
    "                dp[i-1][j] + 1,      # suppression\n",
    "                dp[i][j-1] + 1,      # insertion\n",
    "                dp[i-1][j-1] + cost  # substitution/égalité\n",
    "            )\n",
    "    return dp[n][m]\n",
    "\n",
    "edit_distance(\"kitten\", \"sitting\")\n"
   ]
  },
  {
   "cell_type": "markdown",
   "id": "4f857256",
   "metadata": {},
   "source": [
    "\n",
    "## 8) LIS — Longest Increasing Subsequence (O(n log n))\n",
    "\n",
    "**Idée** : maintenir `tails[k]` = **plus petite fin possible** d’une sous‑séquence croissante de longueur `k+1`.  \n",
    "Pour chaque `x`, on trouve par **recherche binaire** la première position `i` où `tails[i] ≥ x`, et on remplace.\n",
    "\n",
    "- **Complexité** : \\(O(n \\log n)\\) pour la **longueur** seulement.\n",
    "- **Reconstruction** : nécessite de garder les **indices précédents**.\n"
   ]
  },
  {
   "cell_type": "code",
   "execution_count": 5,
   "id": "87703f7f",
   "metadata": {},
   "outputs": [
    {
     "data": {
      "text/plain": [
       "4"
      ]
     },
     "execution_count": 5,
     "metadata": {},
     "output_type": "execute_result"
    }
   ],
   "source": [
    "\n",
    "from bisect import bisect_left\n",
    "\n",
    "def lis_length(a):\n",
    "    tails = []\n",
    "    for x in a:\n",
    "        i = bisect_left(tails, x)\n",
    "        if i == len(tails):\n",
    "            tails.append(x)\n",
    "        else:\n",
    "            tails[i] = x\n",
    "    return len(tails)\n",
    "\n",
    "lis_length([10,9,2,5,3,7,101,18])\n"
   ]
  },
  {
   "cell_type": "markdown",
   "id": "5534ea82",
   "metadata": {},
   "source": [
    "\n",
    "### 8.1 Reconstruction de la séquence\n"
   ]
  },
  {
   "cell_type": "code",
   "execution_count": 6,
   "id": "80113ee3",
   "metadata": {},
   "outputs": [
    {
     "data": {
      "text/plain": [
       "[2, 3, 7, 18]"
      ]
     },
     "execution_count": 6,
     "metadata": {},
     "output_type": "execute_result"
    }
   ],
   "source": [
    "\n",
    "def lis_reconstruct(a):\n",
    "    from bisect import bisect_left\n",
    "    tails = []\n",
    "    tails_idx = []\n",
    "    prev = [-1]*len(a)\n",
    "    for i, x in enumerate(a):\n",
    "        j = bisect_left(tails, x)\n",
    "        if j == len(tails):\n",
    "            tails.append(x); tails_idx.append(i)\n",
    "        else:\n",
    "            tails[j] = x; tails_idx[j] = i\n",
    "        if j > 0:\n",
    "            prev[i] = tails_idx[j-1]\n",
    "    # Reconstruire depuis le dernier index\n",
    "    res = []\n",
    "    k = tails_idx[-1] if tails_idx else -1\n",
    "    while k != -1:\n",
    "        res.append(a[k]); k = prev[k]\n",
    "    return res[::-1]\n",
    "\n",
    "lis_reconstruct([10,9,2,5,3,7,101,18])\n"
   ]
  },
  {
   "cell_type": "markdown",
   "id": "29c9b7c1",
   "metadata": {},
   "source": [
    "\n",
    "## 9) Pièges, bonnes pratiques, checklist d’entretien\n",
    "\n",
    "**Pièges courants**\n",
    "- Mauvaise **définition d’état** (`dp[...]` ne capture pas la “mémoire” nécessaire).\n",
    "- Oublier les **conditions de bord** (lignes/colonnes 0).\n",
    "- Remplir la table dans un **mauvais ordre** (utilisation de valeurs non encore calculées).\n",
    "- **Oublier la reconstruction** (souvent demandée en entretien).\n",
    "\n",
    "**Bonnes pratiques**\n",
    "- Écrire **d’abord** en mots l’état et la transition.\n",
    "- Commencer par **tabulation** pour clarifier l’ordre de calcul, puis optimiser (1D, rolling arrays).\n",
    "- **Valider** sur des petits cas où la réponse est connue.\n",
    "\n",
    "**Checklist entretien**\n",
    "- Expliquer **état/transition/bords/ordre/réponse** en 30 secondes.  \n",
    "- Donner la **complexité** en temps et en mémoire.  \n",
    "- Montrer la **reconstruction** pour au moins un problème.\n"
   ]
  },
  {
   "cell_type": "markdown",
   "id": "e6bd26f8",
   "metadata": {},
   "source": [
    "\n",
    "## 10) Exercices guidés\n",
    "\n",
    "### Exercice A — Knapsack 1D (optimisation mémoire)\n",
    "**Tâche** : transformer le knapsack 2D en **table 1D** (`dp[w]`) en itérant `w` **à l’envers**.  \n",
    "**Indice** : pour ne pas réutiliser un item plusieurs fois, on parcourt `w` de `W` à `wi`.\n",
    "\n",
    "> 👉 Corrigé ci‑dessous.\n"
   ]
  },
  {
   "cell_type": "code",
   "execution_count": 7,
   "id": "16cc2959",
   "metadata": {},
   "outputs": [
    {
     "data": {
      "text/plain": [
       "12"
      ]
     },
     "execution_count": 7,
     "metadata": {},
     "output_type": "execute_result"
    }
   ],
   "source": [
    "\n",
    "def knapsack_1d(weights, values, W):\n",
    "    dp = [0]*(W+1)\n",
    "    for wi, vi in zip(weights, values):\n",
    "        for w in range(W, wi-1, -1):   # ← ordre inverse crucial\n",
    "            dp[w] = max(dp[w], dp[w-wi] + vi)\n",
    "    return dp[W]\n",
    "\n",
    "knapsack_1d([2,3,4,5], [3,4,5,8], 8)\n"
   ]
  },
  {
   "cell_type": "markdown",
   "id": "94b7cc29",
   "metadata": {},
   "source": [
    "\n",
    "### Exercice B — Edit Distance : **reconstruction** (optionnel)\n",
    "**Tâche** : modifier `edit_distance` pour **reconstruire** une suite d’opérations (I, D, S) menant de `a` à `b`.\n",
    "\n",
    "*(À faire en autonomie — indice : garder une table “parent” pour remonter les choix.)*\n"
   ]
  }
 ],
 "metadata": {
  "kernelspec": {
   "display_name": "venv",
   "language": "python",
   "name": "python3"
  },
  "language_info": {
   "codemirror_mode": {
    "name": "ipython",
    "version": 3
   },
   "file_extension": ".py",
   "mimetype": "text/x-python",
   "name": "python",
   "nbconvert_exporter": "python",
   "pygments_lexer": "ipython3",
   "version": "3.10.11"
  }
 },
 "nbformat": 4,
 "nbformat_minor": 5
}
