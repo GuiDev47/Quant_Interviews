{
 "cells": [
  {
   "cell_type": "markdown",
   "id": "0361fbd0",
   "metadata": {},
   "source": [
    "\n",
    "# Design Patterns en Python (Orienté Quant/Trading) — **Notebook Complet**\n",
    "\n",
    "**Objectifs**\n",
    "- Comprendre quand et pourquoi utiliser des patterns (sans sur‑designer).\n",
    "- Maîtriser **Strategy**, **Factory**, **Observer**, **Adapter**, **Facade**, **Singleton**, **Dependency Injection**, **Template Method**.\n",
    "- Connaître les **pièges** et **bonnes pratiques** en Python (typing, tests, logging).\n",
    "- Exercices pratiques + mini‑projet **OMS jouet**.\n",
    "\n",
    "> Toutes les formules sont en `$$ ... $$` si besoin. Le focus ici est l'architecture Python claire et testable.\n"
   ]
  },
  {
   "cell_type": "markdown",
   "id": "a1eefa16",
   "metadata": {},
   "source": [
    "\n",
    "## 0) Pourquoi les patterns ?\n",
    "\n",
    "- Structurer pour **itérer vite** et **tester facilement**.\n",
    "- **Découpler** les responsabilités (remplacer une stratégie/broker sans casser le reste).\n",
    "- Éviter le **code spaghetti** et le **copier‑coller**.\n",
    "- En Python, rester **pragmatique** : composition et fonctions first‑class > over‑engineering.\n"
   ]
  },
  {
   "cell_type": "markdown",
   "id": "3add9748",
   "metadata": {},
   "source": [
    "\n",
    "## 1) Strategy (+ Factory)\n",
    "\n",
    "**Idée** : encapsuler des algorithmes interchangeables derrière une interface commune.\n",
    "\n",
    "**Quand** : tu veux **switcher** rapidement entre Mean‑Reversion / Momentum / etc., **sans modifier** le rester du code (backtest, OMS…).\n"
   ]
  },
  {
   "cell_type": "code",
   "execution_count": null,
   "id": "704f9c3a",
   "metadata": {},
   "outputs": [],
   "source": [
    "\n",
    "from abc import ABC, abstractmethod\n",
    "\n",
    "class Strategy(ABC):\n",
    "    @abstractmethod\n",
    "    def signal(self, series): ...\n",
    "\n",
    "class MeanReversion(Strategy):\n",
    "    def signal(self, series):\n",
    "        m = sum(series) / len(series)\n",
    "        return \"BUY\" if series[-1] < m else \"SELL\"\n",
    "\n",
    "class Momentum(Strategy):\n",
    "    def signal(self, series):\n",
    "        return \"BUY\" if series[-1] > series[-2] else \"SELL\"\n",
    "\n",
    "def strategy_factory(kind: str) -> Strategy:\n",
    "    table = {\"mr\": MeanReversion, \"momo\": Momentum}\n",
    "    try:\n",
    "        return table[kind]()\n",
    "    except KeyError:\n",
    "        raise ValueError(f\"Unknown strategy {kind!r}\")\n",
    "\n",
    "s = strategy_factory(\"mr\")\n",
    "print(\"signal:\", s.signal([100, 101, 99, 100]))\n"
   ]
  },
  {
   "cell_type": "markdown",
   "id": "3f94759d",
   "metadata": {},
   "source": [
    "\n",
    "**Notes & pièges** :\n",
    "- Commence simple (fonctions), introduis **Strategy** quand ça paie.\n",
    "- Utilise `abc.ABC` + `@abstractmethod` pour **documenter** l'interface.\n",
    "- Tests unitaires par implémentation (contrats communs).\n"
   ]
  },
  {
   "cell_type": "markdown",
   "id": "d4525565",
   "metadata": {},
   "source": [
    "\n",
    "## 2) Observer (pub/sub)\n",
    "\n",
    "**Idée** : un **sujet** notifie des **observateurs** (listeners).  \n",
    "**Quand** : un **feed** (ticks/événements) doit informer **plusieurs consommateurs** (stratégies, logs, risk).\n"
   ]
  },
  {
   "cell_type": "code",
   "execution_count": null,
   "id": "7fd15792",
   "metadata": {},
   "outputs": [],
   "source": [
    "\n",
    "class Subject:\n",
    "    def __init__(self): self._subs = []\n",
    "    def subscribe(self, obs): self._subs.append(obs)\n",
    "    def unsubscribe(self, obs): \n",
    "        if obs in self._subs: self._subs.remove(obs)\n",
    "    def notify(self, data):\n",
    "        for o in list(self._subs):  # copie défensive\n",
    "            try:\n",
    "                o.update(data)\n",
    "            except Exception as e:\n",
    "                print(\"observer error:\", e)\n",
    "\n",
    "class StrategyObserver:\n",
    "    def __init__(self, name): self.name = name\n",
    "    def update(self, tick):\n",
    "        print(f\"[{self.name}] tick={tick}\")\n",
    "\n",
    "feed = Subject()\n",
    "s1, s2 = StrategyObserver(\"S1\"), StrategyObserver(\"S2\")\n",
    "feed.subscribe(s1); feed.subscribe(s2)\n",
    "for px in [100.0, 100.2, 99.9]:\n",
    "    feed.notify(px)\n",
    "feed.unsubscribe(s1)\n",
    "feed.notify(101.0)\n"
   ]
  },
  {
   "cell_type": "markdown",
   "id": "b81ffd33",
   "metadata": {},
   "source": [
    "\n",
    "**Variantes** :\n",
    "- File asynchrone (`queue.Queue`) pour haut débit (ne pas bloquer le thread producteur).\n",
    "- Version `asyncio` si les consommateurs font des I/O réseau.\n"
   ]
  },
  {
   "cell_type": "markdown",
   "id": "99e8dc41",
   "metadata": {},
   "source": [
    "\n",
    "## 3) Adapter\n",
    "\n",
    "**Idée** : **uniformiser** des APIs de brokers/vendors **différentes** derrière **UNE** interface interne simple.\n",
    "\n",
    "**Quand** : tu intègres **plusieurs brokers** sans toucher à ton code métier (OMS/stratégies).\n"
   ]
  },
  {
   "cell_type": "code",
   "execution_count": null,
   "id": "c3f0f216",
   "metadata": {},
   "outputs": [],
   "source": [
    "\n",
    "class BrokerA:\n",
    "    def post(self, symbol, qty): return f\"A sent {qty} {symbol}\"\n",
    "\n",
    "class BrokerB:\n",
    "    def send_order(self, instrument, amount): return f\"B OK {amount} {instrument}\"\n",
    "\n",
    "class OMSAdapter:\n",
    "    def __init__(self, vendor): self.vendor = vendor\n",
    "    def send(self, symbol, qty):\n",
    "        if hasattr(self.vendor, \"post\"):\n",
    "            return self.vendor.post(symbol, qty)\n",
    "        if hasattr(self, \"send_order\"):  # bug volontaire ?\n",
    "            pass\n",
    "        if hasattr(self.vendor, \"send_order\"):\n",
    "            return self.vendor.send_order(symbol, qty)\n",
    "        raise ValueError(\"Unsupported vendor\")\n",
    "\n",
    "print(OMSAdapter(BrokerA()).send(\"EURUSD\", 10))\n",
    "print(OMSAdapter(BrokerB()).send(\"EURUSD\", 10))\n"
   ]
  },
  {
   "cell_type": "markdown",
   "id": "8d32d4a5",
   "metadata": {},
   "source": [
    "\n",
    "> **Exercice rapide** : repère le **bug** ci‑dessus et corrige‑le (indice : condition sur `send_order`).  \n",
    "Astuce : ajoute des **tests** qui comparent la sortie attendue pour chaque broker.\n"
   ]
  },
  {
   "cell_type": "markdown",
   "id": "7437db83",
   "metadata": {},
   "source": [
    "\n",
    "## 4) Facade (Façade)\n",
    "\n",
    "**Idée** : offrir une **API simple** par‑dessus un sous‑système (risk, router, logs, audit).\n",
    "\n",
    "**Quand** : tu veux manipuler l’OMS sans t’exposer à sa complexité interne.\n"
   ]
  },
  {
   "cell_type": "code",
   "execution_count": null,
   "id": "854cc35e",
   "metadata": {},
   "outputs": [],
   "source": [
    "\n",
    "class Risk:\n",
    "    def check(self, side, qty): return qty > 0 and qty <= 1_000\n",
    "\n",
    "class Router:\n",
    "    def route(self, symbol, side, qty): return f\"ROUTE {side} {symbol} x{qty}\"\n",
    "\n",
    "class OMSFacade:\n",
    "    def __init__(self, risk: Risk, router: Router):\n",
    "        self.risk, self.router = risk, router\n",
    "    def send_order(self, symbol, side, qty):\n",
    "        if not self.risk.check(side, qty):\n",
    "            return \"REJECT risk\"\n",
    "        return self.router.route(symbol, side, qty)\n",
    "\n",
    "oms = OMSFacade(Risk(), Router())\n",
    "print(oms.send_order(\"EURUSD\", \"BUY\", 100))\n",
    "print(oms.send_order(\"EURUSD\", \"BUY\", 5000))  # rejeté\n"
   ]
  },
  {
   "cell_type": "markdown",
   "id": "6fed9dd3",
   "metadata": {},
   "source": [
    "\n",
    "## 5) Singleton (avec parcimonie)\n",
    "\n",
    "**Idée** : **une seule instance** (ex : config globale).  \n",
    "**Attention** : complique les tests & la concurrence → privilégier **Dependency Injection**.\n"
   ]
  },
  {
   "cell_type": "code",
   "execution_count": null,
   "id": "5a216aef",
   "metadata": {},
   "outputs": [],
   "source": [
    "\n",
    "class Config:\n",
    "    _instance = None\n",
    "    def __new__(cls, *a, **k):\n",
    "        if cls._instance is None:\n",
    "            cls._instance = super().__new__(cls)\n",
    "        return cls._instance\n",
    "\n",
    "c1, c2 = Config(), Config()\n",
    "print(\"Singleton?\", c1 is c2)\n"
   ]
  },
  {
   "cell_type": "markdown",
   "id": "792f6ff2",
   "metadata": {},
   "source": [
    "\n",
    "**Alternatives** :\n",
    "- Objet **module‑level** (simple) ; ou passer la config comme **paramètre**.\n"
   ]
  },
  {
   "cell_type": "markdown",
   "id": "c332a0be",
   "metadata": {},
   "source": [
    "\n",
    "## 6) Dependency Injection (DI) — style Pythonic\n",
    "\n",
    "**Idée** : passer les dépendances (providers, services) **en paramètre** plutôt que de les aller chercher dans des singletons/globals.\n"
   ]
  },
  {
   "cell_type": "code",
   "execution_count": null,
   "id": "ebeec4fc",
   "metadata": {},
   "outputs": [],
   "source": [
    "\n",
    "class CurveStub:\n",
    "    def zero_rate(self, T): return 0.02\n",
    "class VolStub:\n",
    "    def sigma(self, T): return 0.15\n",
    "\n",
    "class PricingEngine:\n",
    "    def __init__(self, curve_provider, vol_provider):\n",
    "        self.curve, self.vol = curve_provider, vol_provider\n",
    "    def price_vanilla(self, T=1.0):\n",
    "        r = self.curve.zero_rate(T); sigma = self.vol.sigma(T)\n",
    "        return max(0.0, 100*(1-r*T) - 0.5*sigma)  # jouet\n",
    "\n",
    "pe = PricingEngine(CurveStub(), VolStub())\n",
    "print(pe.price_vanilla(1.0))\n"
   ]
  },
  {
   "cell_type": "markdown",
   "id": "a4e4b33e",
   "metadata": {},
   "source": [
    "\n",
    "## 7) Template Method\n",
    "\n",
    "**Idée** : définir le **squelette** d’un algo dans une classe de base, et laisser les sous‑classes redéfinir des **étapes**.\n"
   ]
  },
  {
   "cell_type": "code",
   "execution_count": null,
   "id": "735cb45d",
   "metadata": {},
   "outputs": [],
   "source": [
    "\n",
    "from abc import ABC, abstractmethod\n",
    "\n",
    "class Backtest(ABC):\n",
    "    def run(self, prices):\n",
    "        self.before(prices)\n",
    "        for px in prices:\n",
    "            self.on_tick(px)\n",
    "        return self.after()\n",
    "\n",
    "    def before(self, prices): pass\n",
    "    @abstractmethod\n",
    "    def on_tick(self, px): ...\n",
    "    def after(self): return {}\n",
    "\n",
    "class BT_MeanReversion(Backtest):\n",
    "    def __init__(self): self.pos = 0\n",
    "    def on_tick(self, px):\n",
    "        # Jouet : change la position selon la parité du prix\n",
    "        self.pos = 1 if int(px*10) % 2 == 0 else -1\n",
    "    def after(self): return {\"pos\": self.pos}\n",
    "\n",
    "print(BT_MeanReversion().run([100, 101, 100.5]))\n"
   ]
  },
  {
   "cell_type": "markdown",
   "id": "59147141",
   "metadata": {},
   "source": [
    "\n",
    "## 8) Bonus — Observer asynchrone (idée)\n",
    "\n",
    "Pour haut débit d’événements : combiner **Observer** + `queue.Queue` **ou** version `asyncio` (producteur async, consommateurs concurrents).\n"
   ]
  },
  {
   "cell_type": "markdown",
   "id": "e0bd418b",
   "metadata": {},
   "source": [
    "\n",
    "## 9) Mini‑Projet : **OMS Jouet** (exercice guidé)\n",
    "\n",
    "**Objectif** : écrire un **OrderRouter** qui :\n",
    "- choisit une stratégie de routing via **Factory** (ex : “best‑price”, “round‑robin”),\n",
    "- envoie la commande via **Adapter** (unifie BrokerA/BrokerB),\n",
    "- notifie des auditeurs (logs/risk) via **Observer**,\n",
    "- expose une **Facade** simple `send_order(symbol, side, qty)`.\n",
    "\n",
    "**Squelette à compléter** :\n",
    "```python\n",
    "# 1) Implémente 2 stratégies de routing (classes StrategyRouting)\n",
    "# 2) Ecris la factory routing_factory(kind) -> StrategyRouting\n",
    "# 3) Corrige l'Adapter pour qu'il n'ait plus le bug (section 3)\n",
    "# 4) Ecris un Subject \"Bus\" + 2 observers (AuditObserver, RiskObserver)\n",
    "# 5) Compose tout dans une classe OMSFacadeV2(...).send_order(...)\n",
    "# 6) Ecris 3 tests simples (assert) : A) vendor A, B) vendor B, C) risk reject\n",
    "```\n"
   ]
  },
  {
   "cell_type": "markdown",
   "id": "520c2bae",
   "metadata": {},
   "source": [
    "\n",
    "---\n",
    "## 📌 Fiche mémo (révision express)\n",
    "\n",
    "- **Strategy** : changer l’algo **sans toucher** au reste.\n",
    "- **Factory** : instancier à la volée selon un **paramètre**.\n",
    "- **Observer** : diffuser des **ticks**/événements à plusieurs consommateurs.\n",
    "- **Adapter** : unifier des **APIs externes** (brokers/market data).\n",
    "- **Facade** : API **simple** sur un sous‑système complexe (risk, router).\n",
    "- **Singleton** : rare, préférer **DI**.\n",
    "- **DI** : dépendances passées en **paramètre** → tests faciles.\n",
    "- **Template Method** : squelette d’algo avec étapes surchargées.\n"
   ]
  }
 ],
 "metadata": {},
 "nbformat": 4,
 "nbformat_minor": 5
}
