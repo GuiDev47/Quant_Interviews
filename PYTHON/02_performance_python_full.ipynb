{
 "cells": [
  {
   "cell_type": "markdown",
   "id": "4b82656a",
   "metadata": {},
   "source": [
    "\n",
    "# 02 — Performance Python (cours **complet**)\n",
    "\n",
    "**Objectifs**\n",
    "- Savoir **mesurer** (timeit, cProfile) et **interpréter** les hot paths\n",
    "- Maîtriser les **optimisations natives** (comprehensions, generators, prealloc, bisect, itertools)\n",
    "- Utiliser **NumPy/pandas** pour **vectoriser** et **différencier I/O vs CPU**\n",
    "- Comprendre les **coûts cachés** (allocations, copies, conversions, Python ↔ NumPy/pandas)\n"
   ]
  },
  {
   "cell_type": "markdown",
   "id": "3397221f",
   "metadata": {},
   "source": [
    "\n",
    "## 1) Mesurer correctement\n",
    "\n",
    "### 1.1 `timeit` — micro-benchmarks\n"
   ]
  },
  {
   "cell_type": "code",
   "execution_count": 1,
   "id": "ff65d376",
   "metadata": {},
   "outputs": [
    {
     "name": "stdout",
     "output_type": "stream",
     "text": [
      "listcomp: 1.2001473999989685\n"
     ]
    }
   ],
   "source": [
    "\n",
    "import timeit\n",
    "setup = \"nums = list(range(10_000))\"\n",
    "stmt_py = \"total = sum([x*x for x in nums])\"\n",
    "print(\"listcomp:\", timeit.timeit(stmt_py, setup=setup, number=2000))\n"
   ]
  },
  {
   "cell_type": "markdown",
   "id": "e35b165e",
   "metadata": {},
   "source": [
    "\n",
    "### 1.2 `cProfile` — profil global\n",
    "Astuce : profiler une fonction qui prépare et exécute un scénario.\n"
   ]
  },
  {
   "cell_type": "code",
   "execution_count": 2,
   "id": "d76ed9af",
   "metadata": {},
   "outputs": [
    {
     "name": "stdout",
     "output_type": "stream",
     "text": [
      "         45 function calls in 0.026 seconds\n",
      "\n",
      "   Ordered by: cumulative time\n",
      "   List reduced from 21 to 10 due to restriction <10>\n",
      "\n",
      "   ncalls  tottime  percall  cumtime  percall filename:lineno(function)\n",
      "        2    0.000    0.000    0.028    0.014 c:\\Users\\guigu\\Desktop\\Quant Project\\interviews\\venv\\lib\\site-packages\\IPython\\core\\interactiveshell.py:3543(run_code)\n",
      "        2    0.000    0.000    0.028    0.014 {built-in method builtins.exec}\n",
      "        1    0.005    0.005    0.025    0.025 C:\\Users\\guigu\\AppData\\Local\\Temp\\ipykernel_32260\\1917926646.py:3(scenario)\n",
      "        1    0.016    0.016    0.016    0.016 C:\\Users\\guigu\\AppData\\Local\\Temp\\ipykernel_32260\\1917926646.py:5(<listcomp>)\n",
      "        1    0.004    0.004    0.004    0.004 {built-in method builtins.sum}\n",
      "        2    0.000    0.000    0.000    0.000 C:\\Program Files\\WindowsApps\\PythonSoftwareFoundation.Python.3.10_3.10.3056.0_x64__qbz5n2kfra8p0\\lib\\codeop.py:117(__call__)\n",
      "        2    0.000    0.000    0.000    0.000 {built-in method builtins.compile}\n",
      "        2    0.000    0.000    0.000    0.000 c:\\Users\\guigu\\Desktop\\Quant Project\\interviews\\venv\\lib\\site-packages\\traitlets\\traitlets.py:676(__get__)\n",
      "        2    0.000    0.000    0.000    0.000 C:\\Program Files\\WindowsApps\\PythonSoftwareFoundation.Python.3.10_3.10.3056.0_x64__qbz5n2kfra8p0\\lib\\contextlib.py:279(helper)\n",
      "        1    0.000    0.000    0.000    0.000 C:\\Users\\guigu\\AppData\\Local\\Temp\\ipykernel_32260\\1917926646.py:1(<module>)\n",
      "\n",
      "\n",
      "\n"
     ]
    }
   ],
   "source": [
    "\n",
    "import cProfile, pstats, io\n",
    "\n",
    "def scenario():\n",
    "    nums = list(range(200_000))\n",
    "    return sum([x*x for x in nums])\n",
    "\n",
    "pr = cProfile.Profile()\n",
    "pr.enable()\n",
    "scenario()\n",
    "pr.disable()\n",
    "s = io.StringIO()\n",
    "ps = pstats.Stats(pr, stream=s).sort_stats(\"cumtime\")\n",
    "ps.print_stats(10)\n",
    "print(s.getvalue())\n"
   ]
  },
  {
   "cell_type": "markdown",
   "id": "6ef144a1",
   "metadata": {},
   "source": [
    "\n",
    "### 1.3 `line_profiler` (note)\n",
    "- Installation externe : `pip install line_profiler`\n",
    "- Utilisation : `@profile` sur la fonction puis `kernprof -l -v script.py`\n"
   ]
  },
  {
   "cell_type": "markdown",
   "id": "a932afd7",
   "metadata": {},
   "source": [
    "\n",
    "## 2) Optimisations natives\n",
    "\n",
    "- **List comprehension** > boucle `for` + `.append`\n",
    "- **Generator** quand on **ne stocke pas** (streaming)\n",
    "- **Preallocation** pour listes fixes : `arr = [0]*N`\n",
    "- **`bisect`** pour recherche **O(log n)** dans liste triée\n",
    "- **`itertools`** pour éviter des boucles manuelles\n"
   ]
  },
  {
   "cell_type": "code",
   "execution_count": 3,
   "id": "03156421",
   "metadata": {},
   "outputs": [
    {
     "name": "stdout",
     "output_type": "stream",
     "text": [
      "pos: 41152 value: 123456\n"
     ]
    }
   ],
   "source": [
    "\n",
    "from bisect import bisect_left\n",
    "data = list(range(0, 1_000_000, 3))  # trié\n",
    "i = bisect_left(data, 123456)\n",
    "print(\"pos:\", i, \"value:\", data[i])\n"
   ]
  },
  {
   "cell_type": "code",
   "execution_count": 4,
   "id": "d4298905",
   "metadata": {},
   "outputs": [
    {
     "name": "stdout",
     "output_type": "stream",
     "text": [
      "pairs: [(1, 2), (1, 3), (1, 4), (1, 5)] ... acc: [1, 3, 6, 10, 15]\n"
     ]
    }
   ],
   "source": [
    "\n",
    "import itertools as it\n",
    "nums = [1,2,3,4,5]\n",
    "pairs = list(it.combinations(nums, 2))\n",
    "acc = list(it.accumulate(nums))\n",
    "print(\"pairs:\", pairs[:4], \"...\", \"acc:\", acc)\n"
   ]
  },
  {
   "cell_type": "markdown",
   "id": "79138621",
   "metadata": {},
   "source": [
    "\n",
    "## 3) Vectorisation (NumPy/pandas)\n",
    "\n",
    "$$ \\text{Éviter les boucles Python lentes ; préférer les ufuncs NumPy et opérations vectorielles.} $$\n"
   ]
  },
  {
   "cell_type": "code",
   "execution_count": 5,
   "id": "b600cbb2",
   "metadata": {},
   "outputs": [
    {
     "name": "stdout",
     "output_type": "stream",
     "text": [
      "762 μs ± 60.3 μs per loop (mean ± std. dev. of 7 runs, 1,000 loops each)\n",
      "15.3 ms ± 573 μs per loop (mean ± std. dev. of 7 runs, 10 loops each)\n"
     ]
    }
   ],
   "source": [
    "\n",
    "import numpy as np\n",
    "N = 1_000_00\n",
    "arr = np.arange(N, dtype=np.float64)\n",
    "%timeit arr*2 + 1.5\n",
    "%timeit [x*2 + 1.5 for x in arr]  # attention: arr est itérable NumPy ici\n"
   ]
  },
  {
   "cell_type": "markdown",
   "id": "bf691bee",
   "metadata": {},
   "source": [
    "\n",
    "### pandas : `apply` vs vectorisation\n"
   ]
  },
  {
   "cell_type": "code",
   "execution_count": 6,
   "id": "84b589bf",
   "metadata": {},
   "outputs": [
    {
     "name": "stdout",
     "output_type": "stream",
     "text": [
      "38.7 ms ± 957 μs per loop (mean ± std. dev. of 7 runs, 10 loops each)\n",
      "1.3 ms ± 50.1 μs per loop (mean ± std. dev. of 7 runs, 1,000 loops each)\n"
     ]
    }
   ],
   "source": [
    "\n",
    "import pandas as pd\n",
    "s = pd.Series(np.random.randn(200_000))\n",
    "%timeit s.apply(lambda x: x*x + 1.5)\n",
    "%timeit s*s + 1.5\n"
   ]
  },
  {
   "cell_type": "markdown",
   "id": "a740ca59",
   "metadata": {},
   "source": [
    "\n",
    "## 4) E/S & Parsing (I/O) — conseils rapides\n",
    "- Lire des gros CSV : `chunksize`, `dtype` précis, `usecols`\n",
    "- Parquet/Feather (columnaire) plutôt que CSV si possible\n",
    "- Éviter `.apply` ligne par ligne, préférer **vectoriser** ou **numba** (si dispo)\n"
   ]
  },
  {
   "cell_type": "markdown",
   "id": "30184995",
   "metadata": {},
   "source": [
    "\n",
    "## 5) Graphique comparatif simple (perf relative)\n"
   ]
  },
  {
   "cell_type": "code",
   "execution_count": 7,
   "id": "5a48b45b",
   "metadata": {},
   "outputs": [
    {
     "data": {
      "image/png": "[encoded data removed]",
      "text/plain": [
       "<Figure size 640x480 with 1 Axes>"
      ]
     },
     "metadata": {},
     "output_type": "display_data"
    }
   ],
   "source": [
    "\n",
    "import numpy as np, matplotlib.pyplot as plt, time\n",
    "\n",
    "sizes = [1000, 5000, 10_000, 50_000]\n",
    "res_py, res_np = [], []\n",
    "\n",
    "for n in sizes:\n",
    "    nums = list(range(n))\n",
    "    t0 = time.perf_counter()\n",
    "    s = sum([x*x for x in nums])\n",
    "    res_py.append((time.perf_counter()-t0)*1000)\n",
    "\n",
    "    arr = np.arange(n)\n",
    "    t0 = time.perf_counter()\n",
    "    s2 = (arr*arr).sum()\n",
    "    res_np.append((time.perf_counter()-t0)*1000)\n",
    "\n",
    "plt.figure()\n",
    "plt.plot(sizes, res_py, marker=\"o\", label=\"Python pur\")\n",
    "plt.plot(sizes, res_np, marker=\"x\", label=\"NumPy vectorisé\")\n",
    "plt.xlabel(\"Taille (n)\"); plt.ylabel(\"ms\"); plt.title(\"Boucle Python vs NumPy (sum of squares)\")\n",
    "plt.legend(); plt.grid(); plt.show()\n"
   ]
  },
  {
   "cell_type": "markdown",
   "id": "84b22809",
   "metadata": {},
   "source": [
    "\n",
    "---\n",
    "## 📌 Fiche mémo (révision express)\n",
    "- Mesure d'abord (`timeit`, `cProfile`), **optimise ensuite**\n",
    "- Préfère **vectoriser** (NumPy/pandas) aux boucles Python\n",
    "- `bisect` : recherche **O(log n)** dans liste triée\n",
    "- **I/O** : formats columnaire + éviter `apply` au profit d'opérations vectorisées\n"
   ]
  }
 ],
 "metadata": {
  "kernelspec": {
   "display_name": "venv",
   "language": "python",
   "name": "python3"
  },
  "language_info": {
   "codemirror_mode": {
    "name": "ipython",
    "version": 3
   },
   "file_extension": ".py",
   "mimetype": "text/x-python",
   "name": "python",
   "nbconvert_exporter": "python",
   "pygments_lexer": "ipython3",
   "version": "3.10.11"
  }
 },
 "nbformat": 4,
 "nbformat_minor": 5
}
