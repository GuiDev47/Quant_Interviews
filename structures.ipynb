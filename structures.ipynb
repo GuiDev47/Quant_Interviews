{
 "cells": [
  {
   "cell_type": "markdown",
   "id": "29aeb174",
   "metadata": {},
   "source": [
    "# Structures de données Python essentielles"
   ]
  },
  {
   "cell_type": "markdown",
   "id": "5722bcc9",
   "metadata": {},
   "source": [
    "## Listes (list)"
   ]
  },
  {
   "cell_type": "code",
   "execution_count": 1,
   "id": "ae44eea1",
   "metadata": {},
   "outputs": [
    {
     "name": "stdout",
     "output_type": "stream",
     "text": [
      "[1, 2, 2, 4]\n",
      "Ajout : [1, 2, 2, 4, 5]\n",
      "Modif : [10, 2, 2, 4, 5]\n",
      "Slicing : [2, 2]\n",
      "List comprehension : [0, 1, 4, 9, 16]\n"
     ]
    }
   ],
   "source": [
    "# Liste = séquence ordonnée, mutable, accepte doublons\n",
    "ma_liste = [1, 2, 2, 4]\n",
    "print(ma_liste)\n",
    "ma_liste.append(5)\n",
    "print(\"Ajout :\", ma_liste)\n",
    "ma_liste[0] = 10  # Modifiable\n",
    "print(\"Modif :\", ma_liste)\n",
    "print(\"Slicing :\", ma_liste[1:3])  # Slicing\n",
    "\n",
    "# List comprehension\n",
    "carres = [x**2 for x in range(5)]\n",
    "print(\"List comprehension :\", carres)\n"
   ]
  },
  {
   "cell_type": "markdown",
   "id": "2bff4c99",
   "metadata": {},
   "source": [
    "## Ensembles (set)"
   ]
  },
  {
   "cell_type": "code",
   "execution_count": 2,
   "id": "85b7952a",
   "metadata": {},
   "outputs": [
    {
     "name": "stdout",
     "output_type": "stream",
     "text": [
      "{1, 2, 3}\n",
      "Ajout : {1, 2, 3, 4}\n",
      "Différence : {1, 4}\n",
      "Appartenance : True\n"
     ]
    }
   ],
   "source": [
    "# Set = collection non ordonnée, éléments uniques, mutable\n",
    "mon_set = {1, 2, 2, 3}\n",
    "print(mon_set)\n",
    "mon_set.add(4)\n",
    "print(\"Ajout :\", mon_set)\n",
    "print(\"Différence :\", mon_set - {2, 3})\n",
    "print(\"Appartenance :\", 1 in mon_set)\n"
   ]
  },
  {
   "cell_type": "markdown",
   "id": "b85ebb94",
   "metadata": {},
   "source": [
    "## Dictionnaires (dict)"
   ]
  },
  {
   "cell_type": "code",
   "execution_count": 3,
   "id": "c61409ed",
   "metadata": {},
   "outputs": [
    {
     "name": "stdout",
     "output_type": "stream",
     "text": [
      "{'EUR': 1.09, 'USD': 1.0}\n",
      "Ajout : {'EUR': 1.09, 'USD': 1.0, 'GBP': 0.85}\n",
      "Accès par clé : 1.09\n",
      "Parcours :\n",
      " - EUR => 1.09\n",
      " - USD => 1.0\n",
      " - GBP => 0.85\n",
      "Dict inverse : {1.09: 'EUR', 1.0: 'USD', 0.85: 'GBP'}\n"
     ]
    }
   ],
   "source": [
    "# Dict = clé:valeur, (Py >= 3.7 : ordonné), mutable\n",
    "mon_dict = {\"EUR\": 1.09, \"USD\": 1.0}\n",
    "print(mon_dict)\n",
    "mon_dict[\"GBP\"] = 0.85\n",
    "print(\"Ajout :\", mon_dict)\n",
    "print(\"Accès par clé :\", mon_dict[\"EUR\"])\n",
    "print(\"Parcours :\")\n",
    "for k, v in mon_dict.items():\n",
    "    print(f\" - {k} => {v}\")\n",
    "# Dict comprehension\n",
    "inv = {v: k for k, v in mon_dict.items()}\n",
    "print(\"Dict inverse :\", inv)\n"
   ]
  },
  {
   "cell_type": "markdown",
   "id": "9fb153e8",
   "metadata": {},
   "source": [
    "## Tuples (tuple)"
   ]
  },
  {
   "cell_type": "code",
   "execution_count": 4,
   "id": "926ec2ad",
   "metadata": {},
   "outputs": [
    {
     "name": "stdout",
     "output_type": "stream",
     "text": [
      "(1, 2, 2, 3)\n",
      "Accès : 2\n",
      "Erreur si modif : 'tuple' object does not support item assignment\n",
      "Unpacking : 10 20 [30, 40]\n"
     ]
    }
   ],
   "source": [
    "# Tuple = séquence ordonnée, immutable, accepte doublons\n",
    "mon_tuple = (1, 2, 2, 3)\n",
    "print(mon_tuple)\n",
    "print(\"Accès :\", mon_tuple[1])\n",
    "try:\n",
    "    mon_tuple[0] = 5\n",
    "except TypeError as e:\n",
    "    print(\"Erreur si modif :\", e)\n",
    "# Unpacking\n",
    "a, b, *reste = (10, 20, 30, 40)\n",
    "print(\"Unpacking :\", a, b, reste)\n"
   ]
  },
  {
   "cell_type": "markdown",
   "id": "b32d040c",
   "metadata": {},
   "source": [
    "## Comprehensions (synthèse)"
   ]
  },
  {
   "cell_type": "code",
   "execution_count": 5,
   "id": "029219ad",
   "metadata": {},
   "outputs": [
    {
     "name": "stdout",
     "output_type": "stream",
     "text": [
      "List : [0, 1, 4, 9, 16]\n",
      "Set : {0, 1, 2}\n",
      "Dict : {0: 0, 1: 1, 2: 4, 3: 9, 4: 16}\n"
     ]
    }
   ],
   "source": [
    "# List, set, dict comprehensions\n",
    "l = [x**2 for x in range(5)]          # list\n",
    "s = {x % 3 for x in range(10)}        # set\n",
    "d = {x: x**2 for x in range(5)}       # dict\n",
    "print(\"List :\", l)\n",
    "print(\"Set :\", s)\n",
    "print(\"Dict :\", d)\n"
   ]
  },
  {
   "cell_type": "markdown",
   "id": "4b0e70f8",
   "metadata": {},
   "source": [
    "## Autres structures utiles pour le dev quant"
   ]
  },
  {
   "cell_type": "code",
   "execution_count": 15,
   "id": "6f0dc117",
   "metadata": {},
   "outputs": [
    {
     "name": "stdout",
     "output_type": "stream",
     "text": [
      "Deque : deque([0, 1, 2, 3, 4])\n",
      "Deque après pop : deque([1, 2, 3])\n",
      "Counter : Counter({2: 3, 1: 2, 3: 1})\n",
      "Top 2 : [(2, 3), (1, 2)]\n",
      "defaultdict : defaultdict(<class 'list'>, {'a': [1]})\n",
      "defaultdict TEST : TEST\n"
     ]
    }
   ],
   "source": [
    "from collections import deque, Counter, defaultdict\n",
    "# Deque = double-ended queue (rapide append/pop aux deux extrémités)\n",
    "dq = deque([1, 2, 3])\n",
    "dq.appendleft(0)\n",
    "dq.append(4)\n",
    "print(\"Deque :\", dq)\n",
    "dq.pop()\n",
    "dq.popleft()\n",
    "print(\"Deque après pop :\", dq)\n",
    "\n",
    "# Counter = compteur d'occurrences\n",
    "c = Counter([1, 2, 2, 3, 1, 2])\n",
    "print(\"Counter :\", c)\n",
    "print(\"Top 2 :\", c.most_common(2))\n",
    "\n",
    "# defaultdict = dict avec valeur par défaut\n",
    "dd = defaultdict(list)\n",
    "dd[\"a\"].append(1)\n",
    "print(\"defaultdict :\", dd)\n",
    "\n",
    "dd = defaultdict(lambda: 'TEST')\n",
    "print(\"defaultdict TEST :\", dd['abcd'])\n"
   ]
  },
  {
   "cell_type": "markdown",
   "id": "e7e58f29",
   "metadata": {},
   "source": [
    "## Structures immuables (frozenset, namedtuple)"
   ]
  },
  {
   "cell_type": "code",
   "execution_count": 7,
   "id": "d892e9c0",
   "metadata": {},
   "outputs": [
    {
     "name": "stdout",
     "output_type": "stream",
     "text": [
      "frozenset : frozenset({1, 2, 3})\n",
      "namedtuple : Point(x=1, y=2) x: 1\n"
     ]
    }
   ],
   "source": [
    "# frozenset = set immutable\n",
    "fs = frozenset([1, 2, 2, 3])\n",
    "print(\"frozenset :\", fs)\n",
    "\n",
    "from collections import namedtuple\n",
    "Point = namedtuple(\"Point\", [\"x\", \"y\"])\n",
    "p = Point(1, 2)\n",
    "print(\"namedtuple :\", p, \"x:\", p.x)\n"
   ]
  },
  {
   "cell_type": "markdown",
   "id": "79099a76",
   "metadata": {},
   "source": [
    "## Summary Table (synthèse pratique)"
   ]
  },
  {
   "cell_type": "code",
   "execution_count": 8,
   "id": "3bdd0afc",
   "metadata": {},
   "outputs": [
    {
     "ename": "ModuleNotFoundError",
     "evalue": "No module named 'pandas'",
     "output_type": "error",
     "traceback": [
      "\u001b[1;31m---------------------------------------------------------------------------\u001b[0m",
      "\u001b[1;31mModuleNotFoundError\u001b[0m                       Traceback (most recent call last)",
      "Cell \u001b[1;32mIn[8], line 1\u001b[0m\n\u001b[1;32m----> 1\u001b[0m \u001b[38;5;28;01mimport\u001b[39;00m\u001b[38;5;250m \u001b[39m\u001b[38;5;21;01mpandas\u001b[39;00m\u001b[38;5;250m \u001b[39m\u001b[38;5;28;01mas\u001b[39;00m\u001b[38;5;250m \u001b[39m\u001b[38;5;21;01mpd\u001b[39;00m\n\u001b[0;32m      2\u001b[0m summary \u001b[38;5;241m=\u001b[39m pd\u001b[38;5;241m.\u001b[39mDataFrame({\n\u001b[0;32m      3\u001b[0m     \u001b[38;5;124m\"\u001b[39m\u001b[38;5;124mType\u001b[39m\u001b[38;5;124m\"\u001b[39m: [\u001b[38;5;124m\"\u001b[39m\u001b[38;5;124mlist\u001b[39m\u001b[38;5;124m\"\u001b[39m, \u001b[38;5;124m\"\u001b[39m\u001b[38;5;124mset\u001b[39m\u001b[38;5;124m\"\u001b[39m, \u001b[38;5;124m\"\u001b[39m\u001b[38;5;124mdict\u001b[39m\u001b[38;5;124m\"\u001b[39m, \u001b[38;5;124m\"\u001b[39m\u001b[38;5;124mtuple\u001b[39m\u001b[38;5;124m\"\u001b[39m, \u001b[38;5;124m\"\u001b[39m\u001b[38;5;124mdeque\u001b[39m\u001b[38;5;124m\"\u001b[39m, \u001b[38;5;124m\"\u001b[39m\u001b[38;5;124mCounter\u001b[39m\u001b[38;5;124m\"\u001b[39m, \u001b[38;5;124m\"\u001b[39m\u001b[38;5;124mdefaultdict\u001b[39m\u001b[38;5;124m\"\u001b[39m, \u001b[38;5;124m\"\u001b[39m\u001b[38;5;124mfrozenset\u001b[39m\u001b[38;5;124m\"\u001b[39m, \u001b[38;5;124m\"\u001b[39m\u001b[38;5;124mnamedtuple\u001b[39m\u001b[38;5;124m\"\u001b[39m],\n\u001b[0;32m      4\u001b[0m     \u001b[38;5;124m\"\u001b[39m\u001b[38;5;124mOrdonné\u001b[39m\u001b[38;5;124m\"\u001b[39m: [\u001b[38;5;124m\"\u001b[39m\u001b[38;5;124mOui\u001b[39m\u001b[38;5;124m\"\u001b[39m, \u001b[38;5;124m\"\u001b[39m\u001b[38;5;124mNon\u001b[39m\u001b[38;5;124m\"\u001b[39m, \u001b[38;5;124m\"\u001b[39m\u001b[38;5;124mOui (>=3.7)\u001b[39m\u001b[38;5;124m\"\u001b[39m, \u001b[38;5;124m\"\u001b[39m\u001b[38;5;124mOui\u001b[39m\u001b[38;5;124m\"\u001b[39m, \u001b[38;5;124m\"\u001b[39m\u001b[38;5;124mOui\u001b[39m\u001b[38;5;124m\"\u001b[39m, \u001b[38;5;124m\"\u001b[39m\u001b[38;5;124mNon\u001b[39m\u001b[38;5;124m\"\u001b[39m, \u001b[38;5;124m\"\u001b[39m\u001b[38;5;124mOui\u001b[39m\u001b[38;5;124m\"\u001b[39m, \u001b[38;5;124m\"\u001b[39m\u001b[38;5;124mNon\u001b[39m\u001b[38;5;124m\"\u001b[39m, \u001b[38;5;124m\"\u001b[39m\u001b[38;5;124mOui\u001b[39m\u001b[38;5;124m\"\u001b[39m],\n\u001b[1;32m   (...)\u001b[0m\n\u001b[0;32m      7\u001b[0m     \u001b[38;5;124m\"\u001b[39m\u001b[38;5;124mExemple\u001b[39m\u001b[38;5;124m\"\u001b[39m: [\u001b[38;5;124m\"\u001b[39m\u001b[38;5;124m[1,2]\u001b[39m\u001b[38;5;124m\"\u001b[39m, \u001b[38;5;124m\"\u001b[39m\u001b[38;5;124m{\u001b[39m\u001b[38;5;124m1,2}\u001b[39m\u001b[38;5;124m\"\u001b[39m, \u001b[38;5;124m\"\u001b[39m\u001b[38;5;124m{\u001b[39m\u001b[38;5;124m'\u001b[39m\u001b[38;5;124ma\u001b[39m\u001b[38;5;124m'\u001b[39m\u001b[38;5;124m:1}\u001b[39m\u001b[38;5;124m\"\u001b[39m, \u001b[38;5;124m\"\u001b[39m\u001b[38;5;124m(1,2)\u001b[39m\u001b[38;5;124m\"\u001b[39m, \u001b[38;5;124m\"\u001b[39m\u001b[38;5;124mdeque([1,2])\u001b[39m\u001b[38;5;124m\"\u001b[39m, \u001b[38;5;124m\"\u001b[39m\u001b[38;5;124mCounter([1,2,2])\u001b[39m\u001b[38;5;124m\"\u001b[39m, \u001b[38;5;124m\"\u001b[39m\u001b[38;5;124mdefaultdict(list)\u001b[39m\u001b[38;5;124m\"\u001b[39m, \u001b[38;5;124m\"\u001b[39m\u001b[38;5;124mfrozenset([1,2])\u001b[39m\u001b[38;5;124m\"\u001b[39m, \u001b[38;5;124m\"\u001b[39m\u001b[38;5;124mPoint(1,2)\u001b[39m\u001b[38;5;124m\"\u001b[39m]\n\u001b[0;32m      8\u001b[0m })\n\u001b[0;32m      9\u001b[0m summary\n",
      "\u001b[1;31mModuleNotFoundError\u001b[0m: No module named 'pandas'"
     ]
    }
   ],
   "source": [
    "import pandas as pd\n",
    "summary = pd.DataFrame({\n",
    "    \"Type\": [\"list\", \"set\", \"dict\", \"tuple\", \"deque\", \"Counter\", \"defaultdict\", \"frozenset\", \"namedtuple\"],\n",
    "    \"Ordonné\": [\"Oui\", \"Non\", \"Oui (>=3.7)\", \"Oui\", \"Oui\", \"Non\", \"Oui\", \"Non\", \"Oui\"],\n",
    "    \"Mutable\": [\"Oui\", \"Oui\", \"Oui\", \"Non\", \"Oui\", \"Oui\", \"Oui\", \"Non\", \"Non\"],\n",
    "    \"Doublons\": [\"Oui\", \"Non\", \"Clé unique\", \"Oui\", \"Oui\", \"Oui\", \"Oui\", \"Non\", \"Oui\"],\n",
    "    \"Exemple\": [\"[1,2]\", \"{1,2}\", \"{'a':1}\", \"(1,2)\", \"deque([1,2])\", \"Counter([1,2,2])\", \"defaultdict(list)\", \"frozenset([1,2])\", \"Point(1,2)\"]\n",
    "})\n",
    "summary\n"
   ]
  },
  {
   "cell_type": "markdown",
   "id": "1bfd4420",
   "metadata": {},
   "source": [
    "## LRU cache"
   ]
  },
  {
   "cell_type": "code",
   "execution_count": null,
   "id": "c1f34abe",
   "metadata": {},
   "outputs": [],
   "source": [
    "from collections import OrderedDict\n",
    "\n",
    "class LRUCache:\n",
    "    def __init__(self, capacity: int):\n",
    "        self.cache = OrderedDict()\n",
    "        self.capacity = capacity\n",
    "\n",
    "    def get(self, key):\n",
    "        if key not in self.cache:\n",
    "            return -1\n",
    "        self.cache.move_to_end(key)  # Marque comme récemment utilisé\n",
    "        return self.cache[key]\n",
    "\n",
    "    def put(self, key, value):\n",
    "        if key in self.cache:\n",
    "            self.cache.move_to_end(key)\n",
    "        self.cache[key] = value\n",
    "        if len(self.cache) > self.capacity:\n",
    "            evicted = self.cache.popitem(last=False)  # Supprime LRU\n",
    "            print(f\"Eviction: {evicted}\")\n",
    "\n",
    "# Test rapide :\n",
    "lru = LRUCache(2)\n",
    "lru.put(1, 10)\n",
    "lru.put(2, 20)\n",
    "print(lru.get(1))    # 10\n",
    "lru.put(3, 30)       # Eviction de 2\n",
    "print(lru.get(2))    # -1\n",
    "lru.put(4, 40)       # Eviction de 1\n",
    "print(lru.get(1))    # -1\n",
    "print(lru.get(3))    # 30\n",
    "print(lru.get(4))    # 40\n"
   ]
  }
 ],
 "metadata": {
  "kernelspec": {
   "display_name": "venv",
   "language": "python",
   "name": "python3"
  },
  "language_info": {
   "codemirror_mode": {
    "name": "ipython",
    "version": 3
   },
   "file_extension": ".py",
   "mimetype": "text/x-python",
   "name": "python",
   "nbconvert_exporter": "python",
   "pygments_lexer": "ipython3",
   "version": "3.10.11"
  }
 },
 "nbformat": 4,
 "nbformat_minor": 5
}
