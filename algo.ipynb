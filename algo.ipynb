{
 "cells": [
  {
   "cell_type": "markdown",
   "id": "a6299600",
   "metadata": {},
   "source": [
    "\n",
    "# Jour 3 — Algo Python pour Quant Dev\n",
    "\n",
    "Ce notebook couvre les **algorithmes et structures de données** les plus demandés en entretien Quant Dev, avec pédagogie et exemples pratiques.  \n",
    "Après ce notebook, tu sauras expliquer, coder, et adapter :\n",
    "\n",
    "- BFS/DFS (parcours graphe, shortest path)\n",
    "- Structures : queue, deque, heapq, Counter\n",
    "- Dictionnaire trié (OrderedDict), set\n",
    "- LRU cache (rappel rapide)\n",
    "- Rolling statistics (calculs glissants en flux)\n",
    "- Exos corrigés et quiz\n",
    "\n",
    "---\n"
   ]
  },
  {
   "cell_type": "markdown",
   "id": "e0227261",
   "metadata": {},
   "source": [
    "\n",
    "## 1. BFS & DFS — Parcours de graphes\n",
    "\n",
    "- **BFS (Breadth-First Search)** : explore couche par couche (niveau par niveau)\n",
    "- **DFS (Depth-First Search)** : explore le plus loin possible avant de backtracker\n",
    "\n",
    "**Applications :**\n",
    "- Trouver le plus court chemin (si non pondéré)\n",
    "- Explorer des connexions (order book, réseau, matching engine…)\n"
   ]
  },
  {
   "cell_type": "code",
   "execution_count": null,
   "id": "4c567f1f",
   "metadata": {},
   "outputs": [],
   "source": [
    "\n",
    "from collections import deque\n",
    "\n",
    "# Graphe sous forme d'adjacence\n",
    "graph = {\n",
    "    'A': ['B', 'C'],\n",
    "    'B': ['A', 'D', 'E'],\n",
    "    'C': ['A', 'F'],\n",
    "    'D': ['B'],\n",
    "    'E': ['B', 'F'],\n",
    "    'F': ['C', 'E']\n",
    "}\n",
    "\n",
    "# BFS (chemin de A vers F)\n",
    "def bfs(graph, start, goal):\n",
    "    queue = deque()\n",
    "    queue.append((start, [start]))  # (noeud, chemin)\n",
    "    visited = set()\n",
    "    while queue:\n",
    "        node, path = queue.popleft()\n",
    "        if node == goal:\n",
    "            return path\n",
    "        if node in visited:\n",
    "            continue\n",
    "        visited.add(node)\n",
    "        for neighbor in graph[node]:\n",
    "            if neighbor not in visited:\n",
    "                queue.append((neighbor, path + [neighbor]))\n",
    "    return None\n",
    "\n",
    "print(\"BFS A->F:\", bfs(graph, 'A', 'F'))\n",
    "\n",
    "# DFS\n",
    "def dfs(graph, start, goal, path=None, visited=None):\n",
    "    if path is None: path = [start]\n",
    "    if visited is None: visited = set()\n",
    "    visited.add(start)\n",
    "    if start == goal:\n",
    "        return path\n",
    "    for neighbor in graph[start]:\n",
    "        if neighbor not in visited:\n",
    "            res = dfs(graph, neighbor, goal, path + [neighbor], visited)\n",
    "            if res:\n",
    "                return res\n",
    "    return None\n",
    "\n",
    "print(\"DFS A->F:\", dfs(graph, 'A', 'F'))\n"
   ]
  },
  {
   "cell_type": "markdown",
   "id": "17d19324",
   "metadata": {},
   "source": [
    "\n",
    "**À retenir (oral)** :  \n",
    "- BFS trouve toujours le chemin le plus court (non pondéré)\n",
    "- DFS explore en profondeur, peut être plus rapide sur arbre peu large\n",
    "- Utiliser `deque` pour la queue (O(1) pop/append)\n",
    "- Pour un graphe pondéré : utiliser Dijkstra (avec `heapq`)\n",
    "\n",
    "---\n"
   ]
  },
  {
   "cell_type": "markdown",
   "id": "8b720179",
   "metadata": {},
   "source": [
    "\n",
    "## 2. Structures de données : queue, deque, heap, Counter\n",
    "\n",
    "### **queue/deque :**\n",
    "- `deque` : file double entrée, très efficace (O(1) aux deux bouts)\n",
    "- `queue.Queue` : version thread-safe (rare en quant dev)\n"
   ]
  },
  {
   "cell_type": "code",
   "execution_count": null,
   "id": "95cdfdbc",
   "metadata": {},
   "outputs": [],
   "source": [
    "\n",
    "dq = deque([1,2,3])\n",
    "dq.append(4)\n",
    "dq.appendleft(0)\n",
    "print(\"Deque :\", dq)\n",
    "dq.pop()\n",
    "dq.popleft()\n",
    "print(\"Après pop :\", dq)\n"
   ]
  },
  {
   "cell_type": "markdown",
   "id": "3d6906cb",
   "metadata": {},
   "source": [
    "\n",
    "### **heapq :**\n",
    "- Min-heap natif en Python (heapq)\n",
    "- Utilisé pour extraire le plus petit (ou plus grand, si on stocke des -valeurs)\n"
   ]
  },
  {
   "cell_type": "code",
   "execution_count": null,
   "id": "1bf8e801",
   "metadata": {},
   "outputs": [],
   "source": [
    "\n",
    "import heapq\n",
    "arr = [7, 3, 2, 9, 5]\n",
    "heapq.heapify(arr)\n",
    "print(\"Min-heap :\", arr)\n",
    "print(\"Extract min :\", heapq.heappop(arr))\n",
    "heapq.heappush(arr, 1)\n",
    "print(\"Après push(1) :\", arr)\n"
   ]
  },
  {
   "cell_type": "markdown",
   "id": "07416539",
   "metadata": {},
   "source": [
    "\n",
    "### **Counter :**\n",
    "- Compte les occurrences en O(n), très utile pour histogrammes, logs, parsing market data.\n"
   ]
  },
  {
   "cell_type": "code",
   "execution_count": null,
   "id": "31640b74",
   "metadata": {},
   "outputs": [],
   "source": [
    "\n",
    "from collections import Counter\n",
    "arr = ['a', 'b', 'b', 'c', 'a', 'a']\n",
    "c = Counter(arr)\n",
    "print(\"Counter :\", c)\n",
    "print(\"Top 2 :\", c.most_common(2))\n"
   ]
  },
  {
   "cell_type": "markdown",
   "id": "df627048",
   "metadata": {},
   "source": [
    "\n",
    "### **OrderedDict / dict trié**\n",
    "\n",
    "Depuis Python 3.7, dict natif est ordonné.  \n",
    "`OrderedDict` reste utile pour LRU cache ou insertion/déplacement contrôlé.\n"
   ]
  },
  {
   "cell_type": "code",
   "execution_count": null,
   "id": "4e292b41",
   "metadata": {},
   "outputs": [],
   "source": [
    "\n",
    "from collections import OrderedDict\n",
    "od = OrderedDict()\n",
    "od['A'] = 1\n",
    "od['B'] = 2\n",
    "od.move_to_end('A')\n",
    "print(\"OrderedDict :\", od)\n"
   ]
  },
  {
   "cell_type": "markdown",
   "id": "c474811b",
   "metadata": {},
   "source": [
    "\n",
    "## 3. LRU Cache (Least Recently Used)\n",
    "\n",
    "- Structure : OrderedDict (ou dict+deque), capacity limitée\n",
    "- Opérations O(1) pour get/put\n",
    "\n",
    "**Code d'exemple (expliqué à l'oral) :**\n"
   ]
  },
  {
   "cell_type": "code",
   "execution_count": null,
   "id": "f14b887b",
   "metadata": {},
   "outputs": [],
   "source": [
    "\n",
    "class LRUCache:\n",
    "    def __init__(self, capacity: int):\n",
    "        self.cache = OrderedDict()\n",
    "        self.capacity = capacity\n",
    "\n",
    "    def get(self, key):\n",
    "        if key not in self.cache:\n",
    "            return -1\n",
    "        self.cache.move_to_end(key)\n",
    "        return self.cache[key]\n",
    "\n",
    "    def put(self, key, value):\n",
    "        if key in self.cache:\n",
    "            self.cache.move_to_end(key)\n",
    "        self.cache[key] = value\n",
    "        if len(self.cache) > self.capacity:\n",
    "            self.cache.popitem(last=False)\n",
    "\n",
    "lru = LRUCache(2)\n",
    "lru.put(1, 10)\n",
    "lru.put(2, 20)\n",
    "print(lru.get(1))    # 10\n",
    "lru.put(3, 30)       # Eviction de 2\n",
    "print(lru.get(2))    # -1\n"
   ]
  },
  {
   "cell_type": "markdown",
   "id": "64f99e54",
   "metadata": {},
   "source": [
    "\n",
    "**À l'oral** :  \n",
    "> J'utilise OrderedDict pour garder l'ordre d'accès et pop l'élément le moins utilisé en O(1). C'est un pattern classique pour du cache en trading (ex: market data tick, last prices).\n"
   ]
  },
  {
   "cell_type": "markdown",
   "id": "85e3ae66",
   "metadata": {},
   "source": [
    "\n",
    "## 4. Rolling statistics sur un flux de données\n",
    "\n",
    "Exemple : calcul de la moyenne glissante (rolling mean) d'un prix de marché (ex: mid price).\n",
    "\n",
    "- En quant : utile pour signal, moving average crossover, volatility window, etc.\n",
    "\n"
   ]
  },
  {
   "cell_type": "code",
   "execution_count": null,
   "id": "0d216bd1",
   "metadata": {},
   "outputs": [],
   "source": [
    "\n",
    "import numpy as np\n",
    "data = np.random.normal(100, 2, 100)\n",
    "window = 5\n",
    "\n",
    "# Rolling mean \"à la main\"\n",
    "rolling_mean = [np.mean(data[i-window+1:i+1]) if i >= window-1 else np.nan for i in range(len(data))]\n",
    "print(\"Derniers rolling mean :\", rolling_mean[-5:])\n",
    "\n",
    "# Avec pandas (pro)\n",
    "import pandas as pd\n",
    "df = pd.DataFrame({\"price\": data})\n",
    "df[\"roll_mean\"] = df[\"price\"].rolling(window).mean()\n",
    "print(df.tail(7))\n"
   ]
  },
  {
   "cell_type": "markdown",
   "id": "8506f447",
   "metadata": {},
   "source": [
    "\n",
    "**À retenir à l'oral :**\n",
    "- Pour le streaming ou les calculs temps réel, une queue (deque) ou une formule récursive permet d'éviter de recalculer tout à chaque tick.\n"
   ]
  },
  {
   "cell_type": "markdown",
   "id": "68be59a0",
   "metadata": {},
   "source": [
    "\n",
    "## 5. Exos classiques entretien\n",
    "\n",
    "**1. Plus court chemin dans un graphe pondéré (Dijkstra)**  \n",
    "(À connaître, mais version heapq/adjacency dict seulement)\n",
    "\n",
    "**2. Trouver le 1er élément qui apparaît k fois dans un stream**\n",
    "\n",
    "**3. Rolling max/min dans une fenêtre glissante**\n",
    "\n",
    "**4. Détecter un cycle dans un graphe**\n",
    "\n",
    "**Exemples pratiques en cellules à compléter :**\n"
   ]
  },
  {
   "cell_type": "code",
   "execution_count": null,
   "id": "6f2dc2ab",
   "metadata": {},
   "outputs": [],
   "source": [
    "\n",
    "import heapq\n",
    "def dijkstra(graph, start):\n",
    "    dist = {v: float('inf') for v in graph}\n",
    "    dist[start] = 0\n",
    "    heap = [(0, start)]\n",
    "    while heap:\n",
    "        d, node = heapq.heappop(heap)\n",
    "        if d > dist[node]: continue\n",
    "        for neighbor, weight in graph[node]:\n",
    "            if dist[neighbor] > d + weight:\n",
    "                dist[neighbor] = d + weight\n",
    "                heapq.heappush(heap, (dist[neighbor], neighbor))\n",
    "    return dist\n",
    "\n",
    "# Graphe pondéré (exemple)\n",
    "g2 = {'A': [('B',2), ('C',4)], 'B':[('C',1), ('D',7)], 'C':[('D',3)], 'D':[]}\n",
    "print(\"Dijkstra A->\", dijkstra(g2, 'A'))\n"
   ]
  },
  {
   "cell_type": "code",
   "execution_count": null,
   "id": "e288e6aa",
   "metadata": {},
   "outputs": [],
   "source": [
    "\n",
    "from collections import deque\n",
    "def rolling_max(arr, k):\n",
    "    q, res = deque(), []\n",
    "    for i, x in enumerate(arr):\n",
    "        while q and arr[q[-1]] < x:\n",
    "            q.pop()\n",
    "        q.append(i)\n",
    "        if q[0] == i-k:\n",
    "            q.popleft()\n",
    "        if i >= k-1:\n",
    "            res.append(arr[q[0]])\n",
    "    return res\n",
    "\n",
    "print(\"Rolling max sur [1,3,-1,-3,5,3,6,7], k=3 :\", rolling_max([1,3,-1,-3,5,3,6,7], 3))\n"
   ]
  },
  {
   "cell_type": "markdown",
   "id": "c5f63a4a",
   "metadata": {},
   "source": [
    "\n",
    "---\n",
    "## 📑 **À retenir pour l'entretien :**\n",
    "\n",
    "- **Savoir choisir la structure adaptée (dict, set, deque, heap, Counter)**\n",
    "- **Savoir coder et expliquer BFS, DFS, Dijkstra (avec heapq)**\n",
    "- **Rolling mean/max/min : idéal pour signaux, backtest rapide**\n",
    "- **LRU cache, pattern d'optimisation classique en algo quant**\n",
    "- **Structurer proprement son code pour passer de l'algo \"papier\" à un algo Python exploitable en prod**\n",
    "\n",
    "---\n"
   ]
  }
 ],
 "metadata": {},
 "nbformat": 4,
 "nbformat_minor": 5
}
