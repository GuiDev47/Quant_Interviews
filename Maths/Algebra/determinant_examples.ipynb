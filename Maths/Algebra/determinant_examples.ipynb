{
 "cells": [
  {
   "cell_type": "markdown",
   "id": "ef0ca4f3",
   "metadata": {},
   "source": [
    "# Déterminant \n",
    "\n",
    "## Propriétés clés du déterminant\n",
    "\n",
    "1. **Multilinéarité**  \n",
    "   Le déterminant est **linéaire** par rapport à **chaque ligne ou colonne** prise individuellement.  \n",
    "   Cela signifie qu'en fixant toutes les autres lignes, si on remplace une ligne par une combinaison linéaire, le déterminant se transforme de manière correspondante.\n",
    "\n",
    "2. **Changement de signe**  \n",
    "   Échanger deux lignes (ou colonnes) multiplie le déterminant par $-1$ :\n",
    "   $$\n",
    "   \\text{Si on échange deux lignes : } \\det(A') = -\\det(A)\n",
    "   $$\n",
    "\n",
    "3. **Proportionnalité**  \n",
    "   Si une ligne (ou colonne) est multipliée par $k$, alors le déterminant est multiplié par $k$ :\n",
    "   $$\n",
    "   \\det(A') = k \\cdot \\det(A)\n",
    "   $$\n",
    "\n",
    "4. **Triangularité**  \n",
    "   Si $A$ est une matrice triangulaire (supérieure ou inférieure), alors :\n",
    "   $$\n",
    "   \\det(A) = \\prod_{i=1}^n a_{ii}\n",
    "   $$\n",
    "\n",
    "5. **Produit**  \n",
    "   Pour deux matrices $A$ et $B$ de même dimension :\n",
    "   $$\n",
    "   \\det(AB) = \\det(A) \\cdot \\det(B)\n",
    "   $$\n",
    "\n",
    "---\n",
    "\n",
    "## Interprétation géométrique\n",
    "\n",
    "- **Valeur absolue** :  \n",
    "  $|\\det(A)|$ = facteur d’agrandissement (ou de réduction) **d’aire** (en 2D) ou de **volume** (en 3D) de la transformation linéaire associée à $A$.\n",
    "\n",
    "- **Signe** :  \n",
    "  - $\\det(A) > 0$ ⇒ orientation préservée  \n",
    "  - $\\det(A) < 0$ ⇒ orientation inversée (symétrie, effet miroir)\n",
    "\n",
    "- **Cas particulier** :  \n",
    "  Si $\\det(A) = 0$, l’espace est **écrasé** dans une dimension inférieure : la transformation n’est **pas inversible**.\n",
    "\n",
    "\n",
    "## Exemple 3×3 avec la formule des permutations\n",
    "\n",
    "On prend la matrice :\n",
    "\n",
    "$$\n",
    "A =\n",
    "\\begin{pmatrix}\n",
    "1 & 2 & 3 \\\\\n",
    "0 & 4 & 5 \\\\\n",
    "1 & 0 & 6\n",
    "\\end{pmatrix}\n",
    "$$\n",
    "\n",
    "---\n",
    "\n",
    "### Rappel de la formule générale\n",
    "\n",
    "$$\n",
    "\\det(A) = \\sum_{\\sigma \\in S_3} \\mathrm{sgn}(\\sigma) \\prod_{i=1}^3 a_{i, \\sigma(i)}\n",
    "$$\n",
    "\n",
    "- $S_3$ = ensemble des **6 permutations** de $\\{1, 2, 3\\}$  \n",
    "- $\\mathrm{sgn}(\\sigma)$ = $+1$ si permutation paire, $-1$ si permutation impaire\n",
    "\n",
    "---\n",
    "\n",
    "### Liste des permutations et calcul\n",
    "\n",
    "1. **$\\sigma = (1,2,3)$**  \n",
    "   $\\mathrm{sgn} = +1$  \n",
    "   Produit : $a_{1,1} \\cdot a_{2,2} \\cdot a_{3,3} = 1 \\cdot 4 \\cdot 6 = 24$  \n",
    "   Contribution : **$+24$**\n",
    "\n",
    "2. **$\\sigma = (1,3,2)$**  \n",
    "   $\\mathrm{sgn} = -1$  \n",
    "   Produit : $a_{1,1} \\cdot a_{2,3} \\cdot a_{3,2} = 1 \\cdot 5 \\cdot 0 = 0$  \n",
    "   Contribution : **$0$**\n",
    "\n",
    "3. **$\\sigma = (2,1,3)$**  \n",
    "   $\\mathrm{sgn} = -1$  \n",
    "   Produit : $a_{1,2} \\cdot a_{2,1} \\cdot a_{3,3} = 2 \\cdot 0 \\cdot 6 = 0$  \n",
    "   Contribution : **$0$**\n",
    "\n",
    "4. **$\\sigma = (2,3,1)$**  \n",
    "   $\\mathrm{sgn} = +1$  \n",
    "   Produit : $a_{1,2} \\cdot a_{2,3} \\cdot a_{3,1} = 2 \\cdot 5 \\cdot 1 = 10$  \n",
    "   Contribution : **$+10$**\n",
    "\n",
    "5. **$\\sigma = (3,1,2)$**  \n",
    "   $\\mathrm{sgn} = +1$  \n",
    "   Produit : $a_{1,3} \\cdot a_{2,1} \\cdot a_{3,2} = 3 \\cdot 0 \\cdot 0 = 0$  \n",
    "   Contribution : **$0$**\n",
    "\n",
    "6. **$\\sigma = (3,2,1)$**  \n",
    "   $\\mathrm{sgn} = -1$  \n",
    "   Produit : $a_{1,3} \\cdot a_{2,2} \\cdot a_{3,1} = 3 \\cdot 4 \\cdot 1 = 12$  \n",
    "   Contribution : **$-12$**\n",
    "\n",
    "---\n",
    "\n",
    "### Somme des contributions\n",
    "\n",
    "$$\n",
    "\\det(A) = (+24) + (0) + (0) + (+10) + (0) + (-12)\n",
    "$$\n",
    "\n",
    "$$\n",
    "\\det(A) = 24 + 10 - 12 = 22\n",
    "$$\n",
    "\n",
    "✅ **Résultat final** :\n",
    "$$\n",
    "\\boxed{\\det(A) = 22}\n",
    "$$\n",
    "\n",
    "\n",
    "---"
   ]
  },
  {
   "cell_type": "markdown",
   "id": "da52e2e1",
   "metadata": {},
   "source": [
    "## 1) Déterminant d’une petite matrice"
   ]
  },
  {
   "cell_type": "code",
   "execution_count": 1,
   "id": "af9d9b22",
   "metadata": {},
   "outputs": [
    {
     "name": "stdout",
     "output_type": "stream",
     "text": [
      "Matrice A =\n",
      " [[2. 1.]\n",
      " [0. 3.]]\n",
      "Déterminant de A : 6.0\n"
     ]
    }
   ],
   "source": [
    "import numpy as np\n",
    "\n",
    "# Matrice 2x2\n",
    "A = np.array([[2, 1],\n",
    "              [0, 3]], dtype=float)\n",
    "\n",
    "det_A = np.linalg.det(A)\n",
    "print('Matrice A =\\n', A)\n",
    "print(f'Déterminant de A : {det_A}')\n"
   ]
  },
  {
   "cell_type": "markdown",
   "id": "441bcc37",
   "metadata": {},
   "source": [
    "## 2) Vérification avec le produit des valeurs propres\n",
    "Propriété utilisée : $\\det(A) = \\prod_i \\lambda_i$."
   ]
  },
  {
   "cell_type": "code",
   "execution_count": 6,
   "id": "694a4c0f",
   "metadata": {},
   "outputs": [
    {
     "name": "stdout",
     "output_type": "stream",
     "text": [
      "Valeurs propres de A : [2. 3.]\n",
      "Produit des valeurs propres : 6.0\n",
      "Égal au déterminant ? True\n"
     ]
    }
   ],
   "source": [
    "# Valeurs propres et vérification\n",
    "eigvals = np.linalg.eigvals(A)\n",
    "prod_eig = np.prod(eigvals)\n",
    "print('Valeurs propres de A :', eigvals)\n",
    "print('Produit des valeurs propres :', prod_eig)\n",
    "print('Égal au déterminant ?', np.isclose(prod_eig, det_A))\n"
   ]
  },
  {
   "cell_type": "markdown",
   "id": "a5578098",
   "metadata": {},
   "source": [
    "## 3) Déterminant d’une matrice de covariance (finance)\n",
    "Interprétation : si $\\det(\\Sigma) \\approx 0$, la covariance est **mal conditionnée** (colinéarité entre actifs)."
   ]
  },
  {
   "cell_type": "code",
   "execution_count": 3,
   "id": "944fd79e",
   "metadata": {},
   "outputs": [
    {
     "name": "stdout",
     "output_type": "stream",
     "text": [
      "Matrice de covariance =\n",
      " [[0.09 0.06 0.02]\n",
      " [0.06 0.16 0.04]\n",
      " [0.02 0.04 0.25]]\n",
      "Déterminant de la covariance : 0.002588\n"
     ]
    }
   ],
   "source": [
    "# Exemple : covariance de 3 actifs\n",
    "cov_matrix = np.array([[0.09, 0.06, 0.02],\n",
    "                       [0.06, 0.16, 0.04],\n",
    "                       [0.02, 0.04, 0.25]], dtype=float)\n",
    "\n",
    "det_cov = np.linalg.det(cov_matrix)\n",
    "print('Matrice de covariance =\\n', cov_matrix)\n",
    "print(f'Déterminant de la covariance : {det_cov:.6f}')\n"
   ]
  },
  {
   "cell_type": "markdown",
   "id": "053fff85",
   "metadata": {},
   "source": [
    "## 4) Test d’inversibilité\n",
    "On évite d'inverser en pratique, mais ce test est utile pour le flux logique."
   ]
  },
  {
   "cell_type": "code",
   "execution_count": 4,
   "id": "c8a03f8f",
   "metadata": {},
   "outputs": [
    {
     "name": "stdout",
     "output_type": "stream",
     "text": [
      "Inverse de A =\n",
      " [[ 0.5        -0.16666667]\n",
      " [ 0.          0.33333333]]\n"
     ]
    }
   ],
   "source": [
    "if np.isclose(det_A, 0):\n",
    "    print('A est singulière → pas d\\'inverse.')\n",
    "else:\n",
    "    inv_A = np.linalg.inv(A)\n",
    "    print('Inverse de A =\\n', inv_A)\n"
   ]
  },
  {
   "cell_type": "markdown",
   "id": "1e00daad",
   "metadata": {},
   "source": [
    "## 5) Cas symbolique (SymPy) — Déterminant générique 2×2"
   ]
  },
  {
   "cell_type": "code",
   "execution_count": null,
   "id": "2e49f998",
   "metadata": {},
   "outputs": [
    {
     "data": {
      "text/latex": [
       "$\\displaystyle \\left[\\begin{matrix}a & b\\\\c & d\\end{matrix}\\right]$"
      ],
      "text/plain": [
       "Matrix([\n",
       "[a, b],\n",
       "[c, d]])"
      ]
     },
     "metadata": {},
     "output_type": "display_data"
    },
    {
     "name": "stdout",
     "output_type": "stream",
     "text": [
      "Déterminant symbolique : a*d - b*c\n"
     ]
    }
   ],
   "source": [
    "import sympy as sp\n",
    "a, b, c, d = sp.symbols('a b c d')\n",
    "M = sp.Matrix([[a, b], [c, d]])\n",
    "det_M = M.det()\n",
    "display(M)\n",
    "print('Déterminant symbolique :', det_M)\n"
   ]
  },
  {
   "cell_type": "markdown",
   "id": "7bce9d96",
   "metadata": {},
   "source": [
    "---\n",
    "**Astuce pratique (prod):** privilégier les factorisations (LU/Cholesky/QR) et les solves triangulaires plutôt que l’inversion explicite pour résoudre $Ax=b$."
   ]
  }
 ],
 "metadata": {
  "kernelspec": {
   "display_name": "venv",
   "language": "python",
   "name": "python3"
  },
  "language_info": {
   "codemirror_mode": {
    "name": "ipython",
    "version": 3
   },
   "file_extension": ".py",
   "mimetype": "text/x-python",
   "name": "python",
   "nbconvert_exporter": "python",
   "pygments_lexer": "ipython3",
   "version": "3.10.11"
  }
 },
 "nbformat": 4,
 "nbformat_minor": 5
}
