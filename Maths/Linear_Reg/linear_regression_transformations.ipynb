{
 "cells": [
  {
   "cell_type": "markdown",
   "id": "0bca455e",
   "metadata": {},
   "source": [
    "# Linear Regression — Effects of Common Data Transformations\n",
    "This notebook demonstrates, with code, how coefficients, predictions, and R² behave under common transformations of X and Y.\n",
    "We use a synthetic dataset and closed-form OLS.\n"
   ]
  },
  {
   "cell_type": "code",
   "execution_count": 1,
   "id": "4f0dc163",
   "metadata": {},
   "outputs": [],
   "source": [
    "import numpy as np, pandas as pd\n",
    "\n",
    "rng = np.random.default_rng(42)\n",
    "\n",
    "def make_data(n=200, p=2, noise=1.0):\n",
    "    X = rng.normal(size=(n, p))\n",
    "    beta_true = np.array([1.5, -2.0])\n",
    "    y = 0.7 + X @ beta_true + rng.normal(scale=noise, size=n)\n",
    "    return X, y, beta_true, 0.7\n",
    "\n",
    "def ols_fit(X, y, fit_intercept=True):\n",
    "    if fit_intercept:\n",
    "        X1 = np.column_stack([np.ones(len(X)), X])\n",
    "    else:\n",
    "        X1 = X\n",
    "    beta = np.linalg.pinv(X1.T @ X1) @ (X1.T @ y)\n",
    "    yhat = X1 @ beta\n",
    "    resid = y - yhat\n",
    "    ss_res = float((resid**2).sum())\n",
    "    ss_tot = float(((y - y.mean())**2).sum())\n",
    "    r2 = 1 - ss_res / ss_tot\n",
    "    sigma2_hat = ss_res / (len(y) - X1.shape[1])\n",
    "    XtX_inv = np.linalg.pinv(X1.T @ X1)\n",
    "    se = np.sqrt(np.diag(XtX_inv) * sigma2_hat)\n",
    "    return {\"beta\": beta, \"yhat\": yhat, \"resid\": resid, \"r2\": r2, \"se\": se, \"X_design\": X1}\n",
    "\n",
    "X, y, beta_true, intercept_true = make_data()\n",
    "m_base = ols_fit(X, y, fit_intercept=True)\n"
   ]
  },
  {
   "cell_type": "markdown",
   "id": "c4391038",
   "metadata": {},
   "source": [
    "## 1) Doubling all features X → slope divides by 2, predictions & R² unchanged"
   ]
  },
  {
   "cell_type": "code",
   "execution_count": 2,
   "id": "288f0e76",
   "metadata": {},
   "outputs": [
    {
     "name": "stdout",
     "output_type": "stream",
     "text": [
      "Base beta: [ 0.63054225  1.48216054 -2.05330507]\n",
      "New  beta: [ 0.63054225  0.74108027 -1.02665254] (expect slopes ≈ base/2)\n",
      "L2 diff of predictions: 2.2879463045691018e-14\n",
      "R² base vs new: 0.8385724376872568 0.8385724376872568\n"
     ]
    }
   ],
   "source": [
    "X1 = 2*X\n",
    "m1 = ols_fit(X1, y, fit_intercept=True)\n",
    "print(\"Base beta:\", m_base[\"beta\"])\n",
    "print(\"New  beta:\", m1[\"beta\"], \"(expect slopes ≈ base/2)\")\n",
    "print(\"L2 diff of predictions:\", np.linalg.norm(m1[\"yhat\"] - m_base[\"yhat\"]))\n",
    "print(\"R² base vs new:\", m_base[\"r2\"], m1[\"r2\"])"
   ]
  },
  {
   "cell_type": "markdown",
   "id": "e21bba59",
   "metadata": {},
   "source": [
    "## 2) Add constant to X → slopes same, intercept shifts by -c·beta"
   ]
  },
  {
   "cell_type": "code",
   "execution_count": 3,
   "id": "fb7a1b06",
   "metadata": {},
   "outputs": [
    {
     "name": "stdout",
     "output_type": "stream",
     "text": [
      "Base beta: [ 0.63054225  1.48216054 -2.05330507]\n",
      "New  beta: [-3.01915226  1.48216054 -2.05330507] (expect slopes ≈ unchanged)\n",
      "L2 diff of predictions: 5.695112347139579e-14\n",
      "R² base vs new: 0.8385724376872568 0.8385724376872568\n"
     ]
    }
   ],
   "source": [
    "c = np.array([0.8, -1.2])\n",
    "X2 = X + c\n",
    "m2 = ols_fit(X2, y, fit_intercept=True)\n",
    "print(\"Base beta:\", m_base[\"beta\"])\n",
    "print(\"New  beta:\", m2[\"beta\"], \"(expect slopes ≈ unchanged)\")\n",
    "print(\"L2 diff of predictions:\", np.linalg.norm(m2[\"yhat\"] - m_base[\"yhat\"]))\n",
    "print(\"R² base vs new:\", m_base[\"r2\"], m2[\"r2\"])"
   ]
  },
  {
   "cell_type": "markdown",
   "id": "1ae8a920",
   "metadata": {},
   "source": [
    "## 3) Center X → slopes same, intercept ≈ mean(Y)"
   ]
  },
  {
   "cell_type": "code",
   "execution_count": 4,
   "id": "b1c20898",
   "metadata": {},
   "outputs": [
    {
     "name": "stdout",
     "output_type": "stream",
     "text": [
      "Base beta: [ 0.63054225  1.48216054 -2.05330507]\n",
      "New  beta: [ 0.72977714  1.48216054 -2.05330507]\n",
      "mean(Y) ≈ 0.7297771361811334 intercept after centering ≈ 0.729777136181134\n",
      "Predictions L2 diff: 1.3114182033767694e-14\n"
     ]
    }
   ],
   "source": [
    "X3 = X - X.mean(axis=0, keepdims=True)\n",
    "m3 = ols_fit(X3, y, fit_intercept=True)\n",
    "print(\"Base beta:\", m_base[\"beta\"])\n",
    "print(\"New  beta:\", m3[\"beta\"])\n",
    "print(\"mean(Y) ≈\", y.mean(), \"intercept after centering ≈\", m3[\"beta\"][0])\n",
    "print(\"Predictions L2 diff:\", np.linalg.norm(m3[\"yhat\"] - m_base[\"yhat\"]))"
   ]
  },
  {
   "cell_type": "markdown",
   "id": "a909ad15",
   "metadata": {},
   "source": [
    "## 4) Standardize X (z-score) → standardized coefficients"
   ]
  },
  {
   "cell_type": "code",
   "execution_count": 5,
   "id": "960238d9",
   "metadata": {},
   "outputs": [
    {
     "name": "stdout",
     "output_type": "stream",
     "text": [
      "Standardized beta: [ 0.72977714  1.4617762  -1.87652377]\n",
      "R²: 0.8385724376872568\n"
     ]
    }
   ],
   "source": [
    "X4 = (X - X.mean(axis=0, keepdims=True)) / X.std(axis=0, ddof=0)\n",
    "m4 = ols_fit(X4, y, fit_intercept=True)\n",
    "print(\"Standardized beta:\", m4[\"beta\"])\n",
    "print(\"R²:\", m4[\"r2\"])"
   ]
  },
  {
   "cell_type": "markdown",
   "id": "52bf391c",
   "metadata": {},
   "source": [
    "## 5) Multiply Y by k → all coefficients and SE scale by k, R² unchanged"
   ]
  },
  {
   "cell_type": "code",
   "execution_count": 6,
   "id": "affdd42f",
   "metadata": {},
   "outputs": [
    {
     "name": "stdout",
     "output_type": "stream",
     "text": [
      "Base beta: [ 0.63054225  1.48216054 -2.05330507] SE≈ [0.07221093 0.07328405 0.07908507]\n",
      "New  beta: [ 1.89162676  4.44648162 -6.15991522] SE≈ [0.2166328  0.21985215 0.23725522]\n",
      "R² base vs new: 0.8385724376872568 0.8385724376872568\n"
     ]
    }
   ],
   "source": [
    "k = 3.0\n",
    "y5 = k*y\n",
    "m5 = ols_fit(X, y5, fit_intercept=True)\n",
    "print(\"Base beta:\", m_base[\"beta\"], \"SE≈\", m_base[\"se\"])\n",
    "print(\"New  beta:\", m5[\"beta\"], \"SE≈\", m5[\"se\"])\n",
    "print(\"R² base vs new:\", m_base[\"r2\"], m5[\"r2\"])"
   ]
  },
  {
   "cell_type": "markdown",
   "id": "705a62eb",
   "metadata": {},
   "source": [
    "## 6) Add constant to Y → intercept shifts by the same constant; slopes unchanged"
   ]
  },
  {
   "cell_type": "code",
   "execution_count": 7,
   "id": "75bdb06d",
   "metadata": {},
   "outputs": [
    {
     "name": "stdout",
     "output_type": "stream",
     "text": [
      "Base beta: [ 0.63054225  1.48216054 -2.05330507]\n",
      "New  beta: [-1.86945775  1.48216054 -2.05330507] (expect intercept shift by a)\n",
      "R² base vs new: 0.8385724376872568 0.8385724376872568\n"
     ]
    }
   ],
   "source": [
    "a = -2.5\n",
    "y6 = y + a\n",
    "m6 = ols_fit(X, y6, fit_intercept=True)\n",
    "print(\"Base beta:\", m_base[\"beta\"])\n",
    "print(\"New  beta:\", m6[\"beta\"], \"(expect intercept shift by a)\")\n",
    "print(\"R² base vs new:\", m_base[\"r2\"], m6[\"r2\"])"
   ]
  },
  {
   "cell_type": "markdown",
   "id": "074b92a0",
   "metadata": {},
   "source": [
    "## 7) Scale only one feature X_j by c → its slope scales by 1/c (others may move w/ collinearity)"
   ]
  },
  {
   "cell_type": "code",
   "execution_count": 8,
   "id": "ae75601d",
   "metadata": {},
   "outputs": [
    {
     "name": "stdout",
     "output_type": "stream",
     "text": [
      "Base beta: [ 0.63054225  1.48216054 -2.05330507]\n",
      "New  beta: [ 0.63054225 -0.37054013 -2.05330507] (expect beta[j] ≈ base[j]/c7 and sign flip if c7<0)\n",
      "R² base vs new: 0.8385724376872568 0.8385724376872568\n"
     ]
    }
   ],
   "source": [
    "j = 0\n",
    "c7 = -4.0\n",
    "X7 = X.copy()\n",
    "X7[:, j] = c7 * X7[:, j]\n",
    "m7 = ols_fit(X7, y, fit_intercept=True)\n",
    "print(\"Base beta:\", m_base[\"beta\"])\n",
    "print(\"New  beta:\", m7[\"beta\"], \"(expect beta[j] ≈ base[j]/c7 and sign flip if c7<0)\")\n",
    "print(\"R² base vs new:\", m_base[\"r2\"], m7[\"r2\"])"
   ]
  },
  {
   "cell_type": "markdown",
   "id": "353ee6fa",
   "metadata": {},
   "source": [
    "## 8) Flip sign of a feature → its slope flips sign; predictions unchanged after refit"
   ]
  },
  {
   "cell_type": "code",
   "execution_count": 9,
   "id": "c635efd6",
   "metadata": {},
   "outputs": [
    {
     "name": "stdout",
     "output_type": "stream",
     "text": [
      "Base beta: [ 0.63054225  1.48216054 -2.05330507]\n",
      "New  beta: [0.63054225 1.48216054 2.05330507] (expect beta for x2 flips sign)\n",
      "Predictions L2 diff: 0.0\n"
     ]
    }
   ],
   "source": [
    "X8 = X.copy()\n",
    "X8[:, 1] = -X8[:, 1]\n",
    "m8 = ols_fit(X8, y, fit_intercept=True)\n",
    "print(\"Base beta:\", m_base[\"beta\"])\n",
    "print(\"New  beta:\", m8[\"beta\"], \"(expect beta for x2 flips sign)\")\n",
    "print(\"Predictions L2 diff:\", np.linalg.norm(m8[\"yhat\"] - m_base[\"yhat\"]))"
   ]
  },
  {
   "cell_type": "markdown",
   "id": "8c146cee",
   "metadata": {},
   "source": [
    "## 9) Remove intercept → coefficients change; model forced through origin; R² often worse"
   ]
  },
  {
   "cell_type": "code",
   "execution_count": 10,
   "id": "fe396dfc",
   "metadata": {},
   "outputs": [
    {
     "name": "stdout",
     "output_type": "stream",
     "text": [
      "No-intercept beta: [ 1.49785044 -2.07875667]\n",
      "R² (no-intercept) vs base: 0.7760934592971206 vs 0.8385724376872568\n"
     ]
    }
   ],
   "source": [
    "def ols_fit_no_intercept(X, y):\n",
    "    return ols_fit(X, y, fit_intercept=False)\n",
    "\n",
    "m9 = ols_fit_no_intercept(X, y)\n",
    "print(\"No-intercept beta:\", m9[\"beta\"])\n",
    "print(\"R² (no-intercept) vs base:\", m9[\"r2\"], \"vs\", m_base[\"r2\"])"
   ]
  }
 ],
 "metadata": {
  "kernelspec": {
   "display_name": "venv",
   "language": "python",
   "name": "python3"
  },
  "language_info": {
   "codemirror_mode": {
    "name": "ipython",
    "version": 3
   },
   "file_extension": ".py",
   "mimetype": "text/x-python",
   "name": "python",
   "nbconvert_exporter": "python",
   "pygments_lexer": "ipython3",
   "version": "3.10.11"
  }
 },
 "nbformat": 4,
 "nbformat_minor": 5
}
