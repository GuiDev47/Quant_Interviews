{
 "cells": [
  {
   "cell_type": "markdown",
   "id": "b215077f",
   "metadata": {},
   "source": [
    "\n",
    "# Algo Quant Dev — Dijkstra (Plus court chemin pondéré)\n",
    "\n",
    "Ce notebook te fait réviser **Dijkstra** : l’algo de référence pour le plus court chemin dans un graphe pondéré (distances, coûts, etc.).  \n",
    "On s’en sert en finance : passage d’ordres optimaux, calculs sur réseaux de liquidité, routing optimal, arbitrage, etc.\n",
    "\n",
    "---\n"
   ]
  },
  {
   "cell_type": "markdown",
   "id": "88abe84f",
   "metadata": {},
   "source": [
    "\n",
    "## 1. Principe de Dijkstra\n",
    "\n",
    "- Marche sur tout graphe orienté, pondéré, sans poids négatif.\n",
    "- À chaque étape : on “étend” la distance minimale connue vers chaque sommet voisin non encore exploré.\n",
    "- Utilise une structure de type “file de priorité” (heapq) pour toujours traiter le nœud le plus proche du point de départ.\n",
    "\n",
    "---\n",
    "\n",
    "**Application quant :** routing optimal dans les réseaux, book de taux, chemins de paiement interbancaires, best execution, etc.\n"
   ]
  },
  {
   "cell_type": "markdown",
   "id": "2f178d6c",
   "metadata": {},
   "source": [
    "\n",
    "## 2. Implémentation Python simple\n"
   ]
  },
  {
   "cell_type": "code",
   "execution_count": null,
   "id": "88f106e8",
   "metadata": {},
   "outputs": [],
   "source": [
    "\n",
    "import heapq\n",
    "\n",
    "def dijkstra(graph, start):\n",
    "    '''Renvoie la distance minimale depuis start vers chaque sommet'''\n",
    "    dist = {v: float('inf') for v in graph}\n",
    "    dist[start] = 0\n",
    "    heap = [(0, start)]\n",
    "    while heap:\n",
    "        d, node = heapq.heappop(heap)\n",
    "        if d > dist[node]: continue\n",
    "        for neighbor, weight in graph[node]:\n",
    "            if dist[neighbor] > d + weight:\n",
    "                dist[neighbor] = d + weight\n",
    "                heapq.heappush(heap, (dist[neighbor], neighbor))\n",
    "    return dist\n",
    "\n",
    "# Exemple :\n",
    "graph = {\n",
    "    'A': [('B',2), ('C',4)],\n",
    "    'B': [('C',1), ('D',7)],\n",
    "    'C': [('D',3)],\n",
    "    'D': []\n",
    "}\n",
    "print(\"Dijkstra A->*\", dijkstra(graph, 'A'))\n"
   ]
  },
  {
   "cell_type": "markdown",
   "id": "4b612f10",
   "metadata": {},
   "source": [
    "\n",
    "### Version avec récupération du chemin optimal\n"
   ]
  },
  {
   "cell_type": "code",
   "execution_count": null,
   "id": "238248e9",
   "metadata": {},
   "outputs": [],
   "source": [
    "\n",
    "def dijkstra_path(graph, start, goal):\n",
    "    dist = {v: float('inf') for v in graph}\n",
    "    prev = {v: None for v in graph}\n",
    "    dist[start] = 0\n",
    "    heap = [(0, start)]\n",
    "    while heap:\n",
    "        d, node = heapq.heappop(heap)\n",
    "        if d > dist[node]: continue\n",
    "        for neighbor, weight in graph[node]:\n",
    "            if dist[neighbor] > d + weight:\n",
    "                dist[neighbor] = d + weight\n",
    "                prev[neighbor] = node\n",
    "                heapq.heappush(heap, (dist[neighbor], neighbor))\n",
    "    # Reconstruction du chemin\n",
    "    path = []\n",
    "    node = goal\n",
    "    while node is not None:\n",
    "        path.append(node)\n",
    "        node = prev[node]\n",
    "    path = path[::-1]\n",
    "    return dist[goal], path\n",
    "\n",
    "dist, path = dijkstra_path(graph, 'A', 'D')\n",
    "print(f\"Distance min A->D : {dist}, Chemin : {path}\")\n"
   ]
  },
  {
   "cell_type": "markdown",
   "id": "4e2ddd1d",
   "metadata": {},
   "source": [
    "\n",
    "## 3. Visualisation rapide du graphe\n",
    "\n",
    "Pour illustrer le graphe et les poids (nécessite networkx & matplotlib)\n"
   ]
  },
  {
   "cell_type": "code",
   "execution_count": null,
   "id": "eaed47a9",
   "metadata": {},
   "outputs": [],
   "source": [
    "\n",
    "import networkx as nx\n",
    "import matplotlib.pyplot as plt\n",
    "\n",
    "G = nx.DiGraph()\n",
    "for u in graph:\n",
    "    for v, w in graph[u]:\n",
    "        G.add_edge(u, v, weight=w)\n",
    "\n",
    "pos = nx.spring_layout(G, seed=42)\n",
    "labels = nx.get_edge_attributes(G,'weight')\n",
    "nx.draw(G, pos, with_labels=True, node_color='skyblue', node_size=1500, arrows=True)\n",
    "nx.draw_networkx_edge_labels(G, pos, edge_labels=labels)\n",
    "plt.title(\"Exemple de graphe pondéré (pour Dijkstra)\")\n",
    "plt.show()\n"
   ]
  },
  {
   "cell_type": "markdown",
   "id": "4ad89ded",
   "metadata": {},
   "source": [
    "\n",
    "## 4. Quiz oral / entretien\n",
    "\n",
    "- Pourquoi Dijkstra ne fonctionne-t-il pas avec des poids négatifs ?\n",
    "- Comment l’adapter à un graphe non orienté ?\n",
    "- Application en trading : comment utiliser Dijkstra pour router un ordre à coût minimal sur plusieurs pools de liquidité ?\n",
    "- Peut-on utiliser Dijkstra pour trouver le plus rapide chemin entre deux bourses reliées par plusieurs serveurs (latence, coût, risque) ?\n",
    "\n",
    "---\n"
   ]
  },
  {
   "cell_type": "markdown",
   "id": "91435f46",
   "metadata": {},
   "source": [
    "\n",
    "## 5. Exercice à compléter (entraînement)\n",
    "\n",
    "**Construis un graphe représentant 5 places de marché FX, avec des taux de change bidirectionnels (et des coûts différents),  \n",
    "et utilise Dijkstra pour trouver le plus court chemin de conversion EUR à JPY.**\n",
    "\n",
    "(Peut être à la main ou avec la méthode ci-dessus)\n"
   ]
  }
 ],
 "metadata": {},
 "nbformat": 4,
 "nbformat_minor": 5
}
