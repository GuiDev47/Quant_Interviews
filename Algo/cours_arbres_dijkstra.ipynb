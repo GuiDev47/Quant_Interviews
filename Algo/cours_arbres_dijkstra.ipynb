{
 "cells": [
  {
   "cell_type": "markdown",
   "id": "efaae016",
   "metadata": {},
   "source": [
    "# 🌳 Cours : Arbres, Parcours et Algorithme de Dijkstra"
   ]
  },
  {
   "cell_type": "markdown",
   "id": "f7233732",
   "metadata": {},
   "source": [
    "\n",
    "## 1. Introduction aux arbres\n",
    "\n",
    "Un **arbre** est une structure de données hiérarchique composée de **nœuds** reliés entre eux par des **arêtes**.\n",
    "\n",
    "- Le **nœud racine** : point de départ.\n",
    "- Les **nœuds enfants** : descendants directs.\n",
    "- Les **feuilles** : nœuds sans enfants.\n",
    "- La **profondeur** : distance entre la racine et un nœud.\n",
    "- La **hauteur** de l’arbre : profondeur maximale.\n",
    "\n",
    "### Exemple visuel (arbre binaire)\n",
    "\n",
    "```\n",
    "        A\n",
    "       / \\\n",
    "      B   C\n",
    "     / \\   \\\n",
    "    D   E   F\n",
    "```\n",
    "\n",
    "- Racine : `A`\n",
    "- Enfants de `A` : `B, C`\n",
    "- Feuilles : `D, E, F`\n",
    "- Hauteur : 2\n"
   ]
  },
  {
   "cell_type": "markdown",
   "id": "c26c7c27",
   "metadata": {},
   "source": [
    "\n",
    "## 2. Types d’arbres\n",
    "\n",
    "- **Arbre général** : pas de limite sur le nombre d’enfants.\n",
    "- **Arbre binaire** : chaque nœud a au plus 2 enfants (gauche, droite).\n",
    "- **Arbre binaire de recherche (BST)** : arbre binaire où chaque nœud respecte :\n",
    "  - Sous-arbre gauche < nœud < sous-arbre droit\n",
    "- **Tas (heap)** : arbre binaire complet où chaque parent respecte une propriété (min-heap ou max-heap).\n",
    "- **Arbre équilibré (AVL, Red-Black Tree)** : garantit une hauteur logarithmique pour de meilleures performances.\n"
   ]
  },
  {
   "cell_type": "markdown",
   "id": "a29df984",
   "metadata": {},
   "source": [
    "\n",
    "## 3. Algorithmes de parcours\n",
    "\n",
    "### 3.1. **Parcours en profondeur (DFS - Depth First Search)**\n",
    "\n",
    "On explore **le plus loin possible** avant de revenir en arrière.\n",
    "\n",
    "3 variantes principales pour les arbres binaires :\n",
    "- **Pré-ordre (Root - Left - Right)**\n",
    "- **In-ordre (Left - Root - Right)**\n",
    "- **Post-ordre (Left - Right - Root)**\n"
   ]
  },
  {
   "cell_type": "code",
   "execution_count": 1,
   "id": "a24918a8",
   "metadata": {},
   "outputs": [
    {
     "name": "stdout",
     "output_type": "stream",
     "text": [
      "D B E A C F "
     ]
    }
   ],
   "source": [
    "\n",
    "class Node:\n",
    "    def __init__(self, val):\n",
    "        self.val = val\n",
    "        self.left = None\n",
    "        self.right = None\n",
    "\n",
    "# Parcours DFS en ordre\n",
    "def inorder(node):\n",
    "    if node:\n",
    "        inorder(node.left)\n",
    "        print(node.val, end=\" \")\n",
    "        inorder(node.right)\n",
    "\n",
    "# Exemple d'arbre\n",
    "root = Node(\"A\")\n",
    "root.left = Node(\"B\")\n",
    "root.right = Node(\"C\")\n",
    "root.left.left = Node(\"D\")\n",
    "root.left.right = Node(\"E\")\n",
    "root.right.right = Node(\"F\")\n",
    "\n",
    "inorder(root)  # D B E A C F\n"
   ]
  },
  {
   "cell_type": "markdown",
   "id": "843f90f6",
   "metadata": {},
   "source": [
    "\n",
    "### 3.2. **Parcours en largeur (BFS - Breadth First Search)**\n",
    "\n",
    "On explore **niveau par niveau**.\n"
   ]
  },
  {
   "cell_type": "code",
   "execution_count": 2,
   "id": "9c9d5380",
   "metadata": {},
   "outputs": [
    {
     "name": "stdout",
     "output_type": "stream",
     "text": [
      "A B C D E F "
     ]
    }
   ],
   "source": [
    "\n",
    "from collections import deque\n",
    "\n",
    "def bfs(root):\n",
    "    q = deque([root])\n",
    "    while q:\n",
    "        node = q.popleft()\n",
    "        print(node.val, end=\" \")\n",
    "        if node.left: q.append(node.left)\n",
    "        if node.right: q.append(node.right)\n",
    "\n",
    "bfs(root)  # A B C D E F\n"
   ]
  },
  {
   "cell_type": "markdown",
   "id": "3ae18cd8",
   "metadata": {},
   "source": [
    "\n",
    "## 4. Complexités associées\n",
    "\n",
    "- **DFS** et **BFS** :\n",
    "  - Temps : $O(V+E)$ (où $V$ = nombre de nœuds, $E$ = nombre d’arêtes)\n",
    "  - Mémoire :\n",
    "    - DFS : $O(h)$ avec `h` = hauteur de l’arbre (pile récursive).\n",
    "    - BFS : $O(w)$ avec `w` = largeur maximale de l’arbre (taille de la file).\n",
    "\n",
    "- **Arbre binaire de recherche (BST)** :\n",
    "  - Recherche : $O(h)$ (logarithmique si équilibré, linéaire si dégénéré).\n",
    "  - Insertion : $O(h)$\n",
    "  - Suppression : $O(h)$\n",
    "\n",
    "- **Arbres équilibrés** (AVL, Red-Black) : $O(\\log n)$ pour toutes les opérations.\n"
   ]
  },
  {
   "cell_type": "markdown",
   "id": "cbc8e46f",
   "metadata": {},
   "source": [
    "\n",
    "## 5. Algorithme de Dijkstra\n",
    "\n",
    "L’algorithme de **Dijkstra** permet de trouver le **plus court chemin** depuis une source vers tous les autres nœuds dans un graphe pondéré à poids positifs.\n",
    "\n",
    "### Étapes\n",
    "1. Initialiser une distance infinie pour chaque nœud, sauf la source ($0$).\n",
    "2. Utiliser une **file de priorité** (min-heap) pour explorer les nœuds avec la distance minimale.\n",
    "3. Mettre à jour les distances des voisins si un chemin plus court est trouvé.\n",
    "4. Répéter jusqu’à avoir traité tous les nœuds.\n",
    "\n",
    "### Exemple visuel\n",
    "\n",
    "```\n",
    "    (A)\n",
    "   /   \\\n",
    "  1     4\n",
    " /       \\\n",
    "(B)---2---(C)\n",
    "```\n",
    "\n",
    "- Plus court chemin de `A` :\n",
    "  - A → B = 1\n",
    "  - A → C = 3 (via B)\n"
   ]
  },
  {
   "cell_type": "code",
   "execution_count": 3,
   "id": "34ef51a5",
   "metadata": {},
   "outputs": [
    {
     "data": {
      "text/plain": [
       "{'A': 0, 'B': 1, 'C': 3}"
      ]
     },
     "execution_count": 3,
     "metadata": {},
     "output_type": "execute_result"
    }
   ],
   "source": [
    "\n",
    "import heapq\n",
    "\n",
    "def dijkstra(graph, start):\n",
    "    dist = {node: float('inf') for node in graph}\n",
    "    dist[start] = 0\n",
    "    pq = [(0, start)]  # (distance, node)\n",
    "    \n",
    "    while pq:\n",
    "        d, node = heapq.heappop(pq)\n",
    "        if d > dist[node]:\n",
    "            continue\n",
    "        for neigh, weight in graph[node]:\n",
    "            new_dist = d + weight\n",
    "            if new_dist < dist[neigh]:\n",
    "                dist[neigh] = new_dist\n",
    "                heapq.heappush(pq, (new_dist, neigh))\n",
    "    return dist\n",
    "\n",
    "# Exemple de graphe\n",
    "graph = {\n",
    "    'A': [('B', 1), ('C', 4)],\n",
    "    'B': [('C', 2)],\n",
    "    'C': []\n",
    "}\n",
    "\n",
    "dijkstra(graph, 'A')\n"
   ]
  },
  {
   "cell_type": "markdown",
   "id": "daf7825b",
   "metadata": {},
   "source": [
    "\n",
    "### Complexité de Dijkstra\n",
    "- Avec tableau simple : $O(V^2)$\n",
    "- Avec tas binaire (heapq) : $O((V+E)\\log V)$\n",
    "- Avec tas de Fibonacci : $O(E + V\\log V)$\n"
   ]
  }
 ],
 "metadata": {
  "kernelspec": {
   "display_name": "venv",
   "language": "python",
   "name": "python3"
  },
  "language_info": {
   "codemirror_mode": {
    "name": "ipython",
    "version": 3
   },
   "file_extension": ".py",
   "mimetype": "text/x-python",
   "name": "python",
   "nbconvert_exporter": "python",
   "pygments_lexer": "ipython3",
   "version": "3.10.11"
  }
 },
 "nbformat": 4,
 "nbformat_minor": 5
}
