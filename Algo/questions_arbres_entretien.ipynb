{
 "cells": [
  {
   "cell_type": "markdown",
   "id": "d1e60644",
   "metadata": {},
   "source": [
    "# 🌳 Questions d'entretien sur les arbres (avec réponses)"
   ]
  },
  {
   "cell_type": "markdown",
   "id": "5c5f9ee1",
   "metadata": {},
   "source": [
    "\n",
    "## ❓ Question 1 : Qu'est-ce qu'un arbre binaire de recherche (BST) ?  \n",
    "**Réponse :**  \n",
    "Un **Binary Search Tree (BST)** est un arbre binaire où chaque nœud respecte la propriété :  \n",
    "\n",
    "- Les valeurs du **sous-arbre gauche** sont strictement inférieures à la valeur du nœud.  \n",
    "- Les valeurs du **sous-arbre droit** sont strictement supérieures à la valeur du nœud.  \n",
    "\n",
    "Cela permet une recherche en $O(h)$, où $h$ est la hauteur de l’arbre (logarithmique si équilibré).\n"
   ]
  },
  {
   "cell_type": "markdown",
   "id": "4ff5f7d0",
   "metadata": {},
   "source": [
    "\n",
    "## ❓ Question 2 : Quels sont les parcours possibles d'un arbre binaire ?  \n",
    "**Réponse :**  \n",
    "- **DFS (Depth First Search)** :  \n",
    "  - Pré-ordre (Root, Left, Right)  \n",
    "  - In-ordre (Left, Root, Right)  \n",
    "  - Post-ordre (Left, Right, Root)  \n",
    "\n",
    "- **BFS (Breadth First Search)** :  \n",
    "  - Niveau par niveau (utilise une file).  \n"
   ]
  },
  {
   "cell_type": "code",
   "execution_count": 1,
   "id": "d1d1317b",
   "metadata": {},
   "outputs": [
    {
     "name": "stdout",
     "output_type": "stream",
     "text": [
      "Inorder DFS: 2 5 7 10 15 \n",
      "BFS: 10 5 15 2 7 "
     ]
    }
   ],
   "source": [
    "\n",
    "# Exemple de parcours DFS et BFS\n",
    "class Node:\n",
    "    def __init__(self, val):\n",
    "        self.val = val\n",
    "        self.left = None\n",
    "        self.right = None\n",
    "\n",
    "root = Node(10)\n",
    "root.left = Node(5)\n",
    "root.right = Node(15)\n",
    "root.left.left = Node(2)\n",
    "root.left.right = Node(7)\n",
    "\n",
    "# DFS Inorder\n",
    "def inorder(node):\n",
    "    if node:\n",
    "        inorder(node.left)\n",
    "        print(node.val, end=\" \")\n",
    "        inorder(node.right)\n",
    "\n",
    "# BFS\n",
    "from collections import deque\n",
    "def bfs(node):\n",
    "    q = deque([node])\n",
    "    while q:\n",
    "        cur = q.popleft()\n",
    "        print(cur.val, end=\" \")\n",
    "        if cur.left: q.append(cur.left)\n",
    "        if cur.right: q.append(cur.right)\n",
    "\n",
    "print(\"Inorder DFS: \", end=\"\")\n",
    "inorder(root)\n",
    "print(\"\\nBFS: \", end=\"\")\n",
    "bfs(root)\n"
   ]
  },
  {
   "cell_type": "markdown",
   "id": "6a86756f",
   "metadata": {},
   "source": [
    "\n",
    "## ❓ Question 3 : Quelle est la complexité de recherche, insertion et suppression dans un BST ?  \n",
    "**Réponse :**  \n",
    "- **Arbre équilibré** (AVL, Red-Black) : $O(\\log n)$  \n",
    "- **Arbre dégénéré** (chaîne) : $O(n)$  \n"
   ]
  },
  {
   "cell_type": "markdown",
   "id": "f691e1e0",
   "metadata": {},
   "source": [
    "\n",
    "## ❓ Question 4 : Comment vérifier si un arbre binaire est un BST valide ?  \n",
    "**Réponse :**  \n",
    "On vérifie récursivement que :  \n",
    "- Tous les nœuds du sous-arbre gauche < racine  \n",
    "- Tous les nœuds du sous-arbre droit > racine  \n",
    "- On utilise des bornes min/max à chaque appel récursif  \n"
   ]
  },
  {
   "cell_type": "code",
   "execution_count": 2,
   "id": "8960e440",
   "metadata": {},
   "outputs": [
    {
     "name": "stdout",
     "output_type": "stream",
     "text": [
      "True\n"
     ]
    }
   ],
   "source": [
    "\n",
    "def is_bst(node, min_val=float(\"-inf\"), max_val=float(\"inf\")):\n",
    "    if not node:\n",
    "        return True\n",
    "    if not (min_val < node.val < max_val):\n",
    "        return False\n",
    "    return (is_bst(node.left, min_val, node.val) and\n",
    "            is_bst(node.right, node.val, max_val))\n",
    "\n",
    "print(is_bst(root))  # True pour cet exemple\n"
   ]
  },
  {
   "cell_type": "markdown",
   "id": "d19f46eb",
   "metadata": {},
   "source": [
    "\n",
    "## ❓ Question 5 : Quelle est la différence entre un arbre complet, parfait et équilibré ?  \n",
    "**Réponse :**  \n",
    "- **Complet** : tous les niveaux sont remplis sauf éventuellement le dernier, rempli de gauche à droite.  \n",
    "- **Parfait** : tous les niveaux sont remplis et toutes les feuilles sont au même niveau.  \n",
    "- **Équilibré** : pour chaque nœud, la différence de hauteur entre les sous-arbres gauche et droit est au plus 1.  \n"
   ]
  },
  {
   "cell_type": "markdown",
   "id": "04e6da44",
   "metadata": {},
   "source": [
    "\n",
    "## ❓ Question 6 : Comment trouver la profondeur maximale d’un arbre ?  \n",
    "**Réponse :**  \n",
    "On utilise une récursion (DFS) qui retourne $1 + \\max(\\text{hauteur gauche}, \\text{hauteur droite})$.  \n"
   ]
  },
  {
   "cell_type": "code",
   "execution_count": 3,
   "id": "338925a0",
   "metadata": {},
   "outputs": [
    {
     "name": "stdout",
     "output_type": "stream",
     "text": [
      "Hauteur de l'arbre: 3\n"
     ]
    }
   ],
   "source": [
    "\n",
    "def max_depth(node):\n",
    "    if not node:\n",
    "        return 0\n",
    "    return 1 + max(max_depth(node.left), max_depth(node.right))\n",
    "\n",
    "print(\"Hauteur de l'arbre:\", max_depth(root))\n"
   ]
  },
  {
   "cell_type": "markdown",
   "id": "86b89f37",
   "metadata": {},
   "source": [
    "\n",
    "## ❓ Question 7 : Explique l’utilisation des arbres dans les algorithmes de graphes (ex: Dijkstra).  \n",
    "**Réponse :**  \n",
    "- Les arbres permettent de représenter les **chemins explorés**.  \n",
    "- Dijkstra utilise une **file de priorité (min-heap)** qui peut être implémentée avec un arbre binaire.  \n",
    "- Cela permet de maintenir efficacement les distances les plus courtes ($O((V+E)\\log V)$).  \n"
   ]
  },
  {
   "cell_type": "markdown",
   "id": "35454376",
   "metadata": {},
   "source": [
    "\n",
    "👉 Ces questions couvrent les bases demandées en entretien : définitions, parcours, complexité, BST, et applications.\n"
   ]
  }
 ],
 "metadata": {
  "kernelspec": {
   "display_name": "venv",
   "language": "python",
   "name": "python3"
  },
  "language_info": {
   "codemirror_mode": {
    "name": "ipython",
    "version": 3
   },
   "file_extension": ".py",
   "mimetype": "text/x-python",
   "name": "python",
   "nbconvert_exporter": "python",
   "pygments_lexer": "ipython3",
   "version": "3.10.11"
  }
 },
 "nbformat": 4,
 "nbformat_minor": 5
}
