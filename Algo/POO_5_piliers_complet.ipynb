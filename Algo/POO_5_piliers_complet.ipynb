{
 "cells": [
  {
   "cell_type": "markdown",
   "metadata": {},
   "source": [
    "Parfait, allons-y méthodiquement.  \n",
    "En **programmation orientée objet (POO / OOP)**, on parle souvent de **5 piliers** qui structurent la conception :\n",
    "\n",
    "---\n",
    "\n",
    "# 🔑 Les 5 piliers de l’Orienté Objet\n"
   ]
  },
  {
   "cell_type": "markdown",
   "metadata": {},
   "source": [
    "## 1. **Abstraction**\n",
    "- **Idée** : On ne montre que les caractéristiques essentielles d’un objet et on cache les détails d’implémentation.  \n",
    "- **But** : simplifier l’utilisation (ex : on utilise une voiture sans savoir comment le moteur interne fonctionne).\n",
    "- **Exemple concret** : Une classe `DatabaseConnection` qui expose une méthode `connect()` mais cache la gestion des sockets, authentification, etc."
   ]
  },
  {
   "cell_type": "code",
   "execution_count": 1,
   "metadata": {},
   "outputs": [
    {
     "name": "stdout",
     "output_type": "stream",
     "text": [
      "Woof!\n",
      "Meow!\n"
     ]
    }
   ],
   "source": [
    "from abc import ABC, abstractmethod\n",
    "\n",
    "class Animal(ABC):\n",
    "    @abstractmethod\n",
    "    def make_sound(self):\n",
    "        pass\n",
    "\n",
    "class Dog(Animal):\n",
    "    def make_sound(self):\n",
    "        return \"Woof!\"\n",
    "\n",
    "class Cat(Animal):\n",
    "    def make_sound(self):\n",
    "        return \"Meow!\"\n",
    "\n",
    "pets = [Dog(), Cat()]\n",
    "for p in pets:\n",
    "    print(p.make_sound())"
   ]
  },
  {
   "cell_type": "markdown",
   "metadata": {},
   "source": [
    "## 2. **Encapsulation**\n",
    "- **Idée** : On regroupe données + méthodes dans une même entité (classe), et on contrôle l’accès aux données internes.  \n",
    "- **But** : éviter que n’importe quel code modifie directement les variables sensibles.  \n",
    "- **Exemple concret** : un compte bancaire où le solde ne doit pas être modifié directement."
   ]
  },
  {
   "cell_type": "code",
   "execution_count": 2,
   "metadata": {},
   "outputs": [
    {
     "name": "stdout",
     "output_type": "stream",
     "text": [
      "120\n"
     ]
    }
   ],
   "source": [
    "class BankAccount:\n",
    "    def __init__(self, balance=0):\n",
    "        self.__balance = balance  # attribut privé (double underscore)\n",
    "\n",
    "    def deposit(self, amount):\n",
    "        if amount > 0:\n",
    "            self.__balance += amount\n",
    "\n",
    "    def withdraw(self, amount):\n",
    "        if 0 < amount <= self.__balance:\n",
    "            self.__balance -= amount\n",
    "\n",
    "    def get_balance(self):\n",
    "        return self.__balance\n",
    "\n",
    "acc = BankAccount(100)\n",
    "acc.deposit(50)\n",
    "acc.withdraw(30)\n",
    "print(acc.get_balance())  # ✅ 120"
   ]
  },
  {
   "cell_type": "markdown",
   "metadata": {},
   "source": [
    "## 3. **Héritage**\n",
    "- **Idée** : Une classe peut hériter d’une autre pour réutiliser son code et le spécialiser.  \n",
    "- **But** : factoriser le code, éviter la duplication.  \n",
    "- **Exemple concret** : `Car` et `Truck` héritent de `Vehicle`."
   ]
  },
  {
   "cell_type": "code",
   "execution_count": 3,
   "metadata": {},
   "outputs": [
    {
     "name": "stdout",
     "output_type": "stream",
     "text": [
      "Toyota is driving... Trunk opened!\n",
      "Volvo is driving... Cargo loaded!\n"
     ]
    }
   ],
   "source": [
    "class Vehicle:\n",
    "    def __init__(self, brand):\n",
    "        self.brand = brand\n",
    "\n",
    "    def drive(self):\n",
    "        return f\"{self.brand} is driving...\"\n",
    "\n",
    "class Car(Vehicle):\n",
    "    def open_trunk(self):\n",
    "        return \"Trunk opened!\"\n",
    "\n",
    "class Truck(Vehicle):\n",
    "    def load_cargo(self):\n",
    "        return \"Cargo loaded!\"\n",
    "\n",
    "c = Car(\"Toyota\")\n",
    "t = Truck(\"Volvo\")\n",
    "print(c.drive(), c.open_trunk())\n",
    "print(t.drive(), t.load_cargo())"
   ]
  },
  {
   "cell_type": "markdown",
   "metadata": {},
   "source": [
    "## 4. **Polymorphisme**\n",
    "- **Idée** : Une même méthode peut avoir plusieurs implémentations selon le type d’objet.  \n",
    "- **But** : écrire du code générique qui s’adapte aux sous-classes.  \n",
    "- **Exemple concret** : tous les animaux ont une méthode `make_sound()`, mais chaque espèce produit un son différent."
   ]
  },
  {
   "cell_type": "code",
   "execution_count": 4,
   "metadata": {},
   "outputs": [
    {
     "name": "stdout",
     "output_type": "stream",
     "text": [
      "Woof!\n",
      "Meow!\n"
     ]
    }
   ],
   "source": [
    "animals = [Dog(), Cat()]\n",
    "for a in animals:\n",
    "    print(a.make_sound())  # la méthode a le même nom mais un comportement différent"
   ]
  },
  {
   "cell_type": "markdown",
   "metadata": {},
   "source": [
    "## 5. **Composition (ou Association)**\n",
    "- **Idée** : Plutôt que d’hériter, on construit des objets en combinant d’autres objets.  \n",
    "- **But** : favorise la flexibilité et la réutilisation (principe de \"favoriser la composition sur l’héritage\").  \n",
    "- **Exemple concret** : Une `Car` qui contient un objet `Engine`."
   ]
  },
  {
   "cell_type": "code",
   "execution_count": 5,
   "metadata": {},
   "outputs": [
    {
     "name": "stdout",
     "output_type": "stream",
     "text": [
      "Tesla: Engine started\n"
     ]
    }
   ],
   "source": [
    "class Engine:\n",
    "    def start(self):\n",
    "        return \"Engine started\"\n",
    "\n",
    "class Car:\n",
    "    def __init__(self, brand):\n",
    "        self.brand = brand\n",
    "        self.engine = Engine()  # Composition : la voiture contient un moteur\n",
    "\n",
    "    def start(self):\n",
    "        return f\"{self.brand}: {self.engine.start()}\"\n",
    "\n",
    "car = Car(\"Tesla\")\n",
    "print(car.start())  # Tesla: Engine started"
   ]
  },
  {
   "cell_type": "markdown",
   "metadata": {},
   "source": [
    "---\n",
    "\n",
    "# 🎯 Résumé rapide\n",
    "- **Abstraction** → cacher la complexité, exposer l’essentiel.  \n",
    "- **Encapsulation** → protéger et regrouper données + méthodes.  \n",
    "- **Héritage** → réutiliser et spécialiser du code.  \n",
    "- **Polymorphisme** → mêmes méthodes, comportements différents.  \n",
    "- **Composition** → assembler des objets entre eux plutôt qu’hériter.\n",
    "\n",
    "---"
   ]
  }
 ],
 "metadata": {
  "kernelspec": {
   "display_name": "venv",
   "language": "python",
   "name": "python3"
  },
  "language_info": {
   "codemirror_mode": {
    "name": "ipython",
    "version": 3
   },
   "file_extension": ".py",
   "mimetype": "text/x-python",
   "name": "python",
   "nbconvert_exporter": "python",
   "pygments_lexer": "ipython3",
   "version": "3.10.11"
  }
 },
 "nbformat": 4,
 "nbformat_minor": 2
}
