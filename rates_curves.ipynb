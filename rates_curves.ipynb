{
 "cells": [
  {
   "cell_type": "markdown",
   "id": "df1e378d",
   "metadata": {},
   "source": [
    "\n",
    "# Jour 2 — Courbes de taux : Discount Factor, Zero Curve et Forward Rate\n",
    "\n",
    "Ce notebook te donne tous les outils **pratiques** pour comprendre et manipuler :\n",
    "- Les **discount factors** (facteurs d’actualisation)\n",
    "- La **courbe de taux zéro-coupon**\n",
    "- Les **taux forward** (taux implicites entre deux dates)\n",
    "- Application directe au pricing Rates et à l’oral d’entretien Quant Dev.\n",
    "\n",
    "---\n",
    "\n",
    "## 1. Principes de base\n",
    "\n",
    "- **Courbe de taux zéro** : pour chaque maturité, le taux d’intérêt annualisé, applicable à un investissement de “aujourd’hui à t”, sans coupon intermédiaire (ex : obligations zéro-coupon).\n",
    "- **Discount factor (DF)** : combien vaut aujourd’hui 1 euro (ou 1 USD) que je recevrai à la date t ?\n",
    "    - Plus le taux est haut, plus DF est bas.\n",
    "    - Si r = 3% (base continue), DF(2 ans) = exp(-0.03 * 2)\n",
    "- **Forward rate** : taux implicite entre deux dates (t1, t2), calculé à partir de la courbe zéro. Il répond à la question : “si je peux emprunter jusqu’à t1, puis placer de t1 à t2, quel taux dois-je obtenir entre t1 et t2 pour égaler un investissement de 0 à t2 directement ?”\n",
    "\n",
    "### **Formules clés :**\n",
    "- **Discount factor** : DF(t) = exp(-r * t), r = taux zero annualisé base continue\n",
    "- **Forward rate (base continue)** : \n",
    "    - \\( f_{t_1, t_2} = -\\frac{\\ln(DF(t_2)/DF(t_1))}{t_2-t_1} \\)\n",
    "\n",
    "---\n"
   ]
  },
  {
   "cell_type": "markdown",
   "id": "c4ba3b66",
   "metadata": {},
   "source": [
    "## 2. Construisons une mini courbe de taux zéro fictive"
   ]
  },
  {
   "cell_type": "code",
   "execution_count": null,
   "id": "7e21b903",
   "metadata": {},
   "outputs": [],
   "source": [
    "\n",
    "import numpy as np\n",
    "import pandas as pd\n",
    "import matplotlib.pyplot as plt\n",
    "\n",
    "years = np.array([1, 2, 3])\n",
    "zero_rates = np.array([0.02, 0.025, 0.03])  # 2%, 2.5%, 3%\n",
    "\n",
    "discount_factors = np.exp(-zero_rates * years)\n",
    "\n",
    "for t, r, d in zip(years, zero_rates, discount_factors):\n",
    "    print(f\"DF({t}Y) avec r={r*100:.2f}% : {d:.5f}\")\n",
    "\n",
    "courbe = pd.DataFrame({\n",
    "    \"Maturity (Y)\": years,\n",
    "    \"ZeroRate (%)\": zero_rates * 100,\n",
    "    \"DiscountFactor\": discount_factors\n",
    "})\n",
    "courbe\n"
   ]
  },
  {
   "cell_type": "markdown",
   "id": "f46a1431",
   "metadata": {},
   "source": [
    "\n",
    "### 📌 **À retenir sur le Discount Factor**\n",
    "\n",
    "- DF(t) < 1 pour tout t > 0.\n",
    "- Plus la maturité ou le taux augmente, plus DF diminue.\n",
    "- **Interprétation pratique** : pour “discounter” un cashflow, on multiplie son montant futur par DF(t).\n",
    "\n",
    "**Exemple** : Recevoir 100€ dans 2 ans à 2.5% (base continue) vaut aujourd’hui :  \n",
    "100 × exp(-0.025×2) ≈ 95.06€\n"
   ]
  },
  {
   "cell_type": "markdown",
   "id": "42d5cfb9",
   "metadata": {},
   "source": [
    "\n",
    "## 3. Calcul du taux forward entre deux dates\n",
    "\n",
    "**Formule base continue :**\n",
    "\n",
    "\\[ f_{t_1, t_2} = -\\frac{\\ln\\left(\\frac{DF(t_2)}{DF(t_1)}\\right)}{t_2-t_1} \\]\n",
    "\n",
    "- **Sens** : quel taux garantis-je entre t1 et t2, sachant les taux zéro à t1 et t2 ?\n",
    "\n"
   ]
  },
  {
   "cell_type": "code",
   "execution_count": null,
   "id": "fe8062e7",
   "metadata": {},
   "outputs": [],
   "source": [
    "\n",
    "df_1 = discount_factors[0]\n",
    "df_2 = discount_factors[1]\n",
    "t1 = years[0]\n",
    "t2 = years[1]\n",
    "\n",
    "forward_1_2 = -np.log(df_2/df_1)/(t2-t1)\n",
    "print(f\"Taux forward implicite 1Y→2Y = {forward_1_2*100:.3f}%\")\n"
   ]
  },
  {
   "cell_type": "markdown",
   "id": "dd2b2f19",
   "metadata": {},
   "source": [
    "\n",
    "**Remarque** : Le forward rate n’est PAS forcément entre le zero 1Y et zero 2Y. Il dépend du “pente” de la courbe.\n",
    "\n",
    "- Si la courbe est pentue (= taux 2Y > 1Y), le forward est plus haut que le zero 1Y.\n",
    "- Cela sert à “lire le marché” : anticipations de taux futurs, pricing swap, etc.\n"
   ]
  },
  {
   "cell_type": "markdown",
   "id": "c7d9da68",
   "metadata": {},
   "source": [
    "\n",
    "### 🧠 **Exercices de réflexion**\n",
    "\n",
    "1. Si le taux zéro 3Y augmente, que fait le DF(3Y) ?\n",
    "2. Pourquoi le forward rate peut-il être supérieur au zero rate ?\n",
    "3. Calcule le DF(4Y) si le taux zéro 4Y est 3.2% (base continue).\n",
    "\n",
    "**Réponses orales** :  \n",
    "1. DF(3Y) baisse, car plus le taux est élevé plus l’actualisation “mange” la valeur future.  \n",
    "2. Si la courbe monte fortement (taux 2Y << 3Y), le forward de 2Y à 3Y sera > taux zéro 2Y.  \n",
    "3. DF(4Y) = exp(-0.032 × 4) ≈ 0.8776\n"
   ]
  },
  {
   "cell_type": "markdown",
   "id": "c8364448",
   "metadata": {},
   "source": [
    "## 4. Fonction Python générique pour taux forward"
   ]
  },
  {
   "cell_type": "code",
   "execution_count": null,
   "id": "92ebb366",
   "metadata": {},
   "outputs": [],
   "source": [
    "\n",
    "def forward_rate(df1, df2, t1, t2):\n",
    "    \"\"\"Calcule le taux forward continu entre t1 et t2 à partir des DF.\"\"\"\n",
    "    return -np.log(df2/df1)/(t2-t1)\n",
    "\n",
    "print(\"Forward 2Y→3Y :\", forward_rate(discount_factors[1], discount_factors[2], years[1], years[2]) * 100, \"%\")\n"
   ]
  },
  {
   "cell_type": "markdown",
   "id": "df40e2fc",
   "metadata": {},
   "source": [
    "\n",
    "## 5. (Optionnel) Interpolation de la courbe\n",
    "\n",
    "Souvent, on ne connaît la courbe zéro qu’à quelques points (ex : 1Y, 2Y, 5Y, 10Y…).  \n",
    "Pour obtenir un taux à 1.5Y, on interpole.\n",
    "\n",
    "En pratique : linéaire, log-linéaire, cubic spline…\n",
    "\n"
   ]
  },
  {
   "cell_type": "code",
   "execution_count": null,
   "id": "22f59072",
   "metadata": {},
   "outputs": [],
   "source": [
    "\n",
    "from scipy.interpolate import interp1d\n",
    "\n",
    "# Suppose taux à 1Y, 2Y, 3Y ; on veut le taux à 1.5Y\n",
    "interp_zero = interp1d(years, zero_rates, kind=\"linear\")\n",
    "zero_1_5Y = float(interp_zero(1.5))\n",
    "print(f\"Taux zéro 1.5Y interpolé (linéaire) : {zero_1_5Y*100:.3f}%\")\n",
    "\n",
    "# DF interpolé\n",
    "df_1_5Y = np.exp(-zero_1_5Y * 1.5)\n",
    "print(f\"DF(1.5Y) interpolé : {df_1_5Y:.5f}\")\n"
   ]
  },
  {
   "cell_type": "markdown",
   "id": "c78b746e",
   "metadata": {},
   "source": [
    "\n",
    "## 6. Visualisation de la courbe (zero + DF)\n",
    "\n",
    "La courbe zéro est souvent croissante (structure de terme), la courbe DF toujours décroissante.\n",
    "\n"
   ]
  },
  {
   "cell_type": "code",
   "execution_count": null,
   "id": "0bc61e6f",
   "metadata": {},
   "outputs": [],
   "source": [
    "\n",
    "plt.figure(figsize=(8,4))\n",
    "plt.plot(years, zero_rates*100, marker=\"o\", label=\"Zero Rate (%)\")\n",
    "plt.plot(years, discount_factors, marker=\"x\", label=\"Discount Factor\")\n",
    "plt.xlabel(\"Maturité (années)\")\n",
    "plt.title(\"Courbe de taux zéro & Discount Factor\")\n",
    "plt.legend()\n",
    "plt.grid()\n",
    "plt.show()\n"
   ]
  },
  {
   "cell_type": "markdown",
   "id": "cee0ea41",
   "metadata": {},
   "source": [
    "\n",
    "---\n",
    "## 📝 **À retenir pour l’entretien (fiche orale)**\n",
    "\n",
    "- **Discount factor** : combien vaut 1€ dans t ans ? C’est exp(-r * t) si r = taux zéro annualisé.\n",
    "- **Forward rate** : taux implicite entre deux dates, lisible sur la courbe zéro. Sert à anticiper/piloter des swaps.\n",
    "- Si courbe zéro donnée sous forme de points, il faut interpoler pour utiliser/pricer précisément.\n",
    "- Pour tout pricing en Rates, on actualise les cashflows futurs par leur DF correspondant.\n",
    "- Savoir expliquer ce tableau :\n",
    "\n",
    "| Année | Taux zéro | DF   |\n",
    "|-------|-----------|------|\n",
    "|   1   |   2%      | 0.9802 |\n",
    "|   2   |   2.5%    | 0.9512 |\n",
    "|   3   |   3%      | 0.9131 |\n",
    "\n",
    "---\n",
    "\n",
    "**Entraîne-toi à expliquer “à quoi sert une courbe zéro”, et à calculer un taux forward et un DF à la volée.**\n"
   ]
  }
 ],
 "metadata": {},
 "nbformat": 4,
 "nbformat_minor": 5
}
